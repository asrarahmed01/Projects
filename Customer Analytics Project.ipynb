{
 "cells": [
  {
   "cell_type": "markdown",
   "metadata": {},
   "source": [
    "# 1. Segmentation and Positioning\n",
    "\n",
    "* In analyzing customers, we will group our customers into Segments and Position ourselves to apply Marketing Mix techniques to different Segments.             \n",
    "\n",
    "\n",
    "- **A. SEGMENTATION**: group the population into clusters based on demographics/purchase behavior\n",
    "    \n",
    "    \n",
    "- **B. POSITIONING**: apply Marketing Mix techniques, including calculating and plotting Price Elasticity"
   ]
  },
  {
   "cell_type": "markdown",
   "metadata": {},
   "source": [
    "## Libraries"
   ]
  },
  {
   "cell_type": "code",
   "execution_count": 1,
   "metadata": {},
   "outputs": [],
   "source": [
    "import numpy as np\n",
    "import pandas as pd\n",
    "#pd.set_option('display.max_columns',20000)\n",
    "from IPython.core.display import Image\n",
    "\n",
    "from sklearn.preprocessing import StandardScaler\n",
    "from sklearn.decomposition import PCA\n",
    "from sklearn.cluster import KMeans\n",
    "\n",
    "import pickle\n",
    "\n",
    "from sklearn.linear_model import LogisticRegression \n",
    "\n",
    "import matplotlib.pyplot as plt\n",
    "import matplotlib.axes as axs\n",
    "import seaborn as sns\n",
    "sns.set()\n",
    "\n",
    "import warnings\n",
    "warnings.filterwarnings(\"ignore\")\n",
    "pd.set_option('display.max_columns', None)\n",
    "pd.set_option('display.max_rows', None)"
   ]
  },
  {
   "cell_type": "markdown",
   "metadata": {},
   "source": [
    "* Steps 2 - 14: Bringing in the dataset and performing PCA and cluster analysis on the dataset.\n",
    "\n",
    "Dataset consists of approximately 59,000 different transactions comprised from purchase activity of 500 different customers. There are 24 features of which the first 17 features consists of purchase behavior and the last 7 features are customer demographics. After analyzing the dataframe for missing values and incorrect data types, we will run basic descriptive statistics on demographic features and then divide the customer base into various segments. \n",
    "\n",
    "\n",
    "For each segment of customers:\n",
    "- A2a: Analyze the social-economic makeup of that cluster (age, married status, income, education and etc) and then label them.\n",
    "\n",
    "- A2b: Calculate the cluster size and proportion of the total customer base.\n",
    "\n",
    "- A2c: Purchase Behavior by Segment:\n",
    "    - Frequency of customers' visit to the store\n",
    "    - Average number of units customers purchase\n",
    "    - How often do customers from different segments purchase these goods\n",
    "    - Brand Choice by Segment\n",
    "    - Calcualte revenue by Segment and Brand.\n",
    "    \n",
    "- B4: Calculate and plot Price Elasticity at different price points. Compare and contrast elasticity between different segments. "
   ]
  },
  {
   "cell_type": "markdown",
   "metadata": {},
   "source": [
    "## DATAFRAME "
   ]
  },
  {
   "cell_type": "code",
   "execution_count": 2,
   "metadata": {},
   "outputs": [
    {
     "data": {
      "text/html": [
       "<div>\n",
       "<style scoped>\n",
       "    .dataframe tbody tr th:only-of-type {\n",
       "        vertical-align: middle;\n",
       "    }\n",
       "\n",
       "    .dataframe tbody tr th {\n",
       "        vertical-align: top;\n",
       "    }\n",
       "\n",
       "    .dataframe thead th {\n",
       "        text-align: right;\n",
       "    }\n",
       "</style>\n",
       "<table border=\"1\" class=\"dataframe\">\n",
       "  <thead>\n",
       "    <tr style=\"text-align: right;\">\n",
       "      <th></th>\n",
       "      <th>ID</th>\n",
       "      <th>Day</th>\n",
       "      <th>Incidence</th>\n",
       "      <th>Brand</th>\n",
       "      <th>Quantity</th>\n",
       "      <th>Last_Inc_Brand</th>\n",
       "      <th>Last_Inc_Quantity</th>\n",
       "      <th>Price_1</th>\n",
       "      <th>Price_2</th>\n",
       "      <th>Price_3</th>\n",
       "      <th>Price_4</th>\n",
       "      <th>Price_5</th>\n",
       "      <th>Promotion_1</th>\n",
       "      <th>Promotion_2</th>\n",
       "      <th>Promotion_3</th>\n",
       "      <th>Promotion_4</th>\n",
       "      <th>Promotion_5</th>\n",
       "      <th>Sex</th>\n",
       "      <th>Marital status</th>\n",
       "      <th>Age</th>\n",
       "      <th>Education</th>\n",
       "      <th>Income</th>\n",
       "      <th>Occupation</th>\n",
       "      <th>Settlement size</th>\n",
       "    </tr>\n",
       "  </thead>\n",
       "  <tbody>\n",
       "    <tr>\n",
       "      <th>0</th>\n",
       "      <td>200000001</td>\n",
       "      <td>1</td>\n",
       "      <td>0</td>\n",
       "      <td>0</td>\n",
       "      <td>0</td>\n",
       "      <td>0</td>\n",
       "      <td>0</td>\n",
       "      <td>1.59</td>\n",
       "      <td>1.87</td>\n",
       "      <td>2.01</td>\n",
       "      <td>2.09</td>\n",
       "      <td>2.66</td>\n",
       "      <td>0</td>\n",
       "      <td>1</td>\n",
       "      <td>0</td>\n",
       "      <td>0</td>\n",
       "      <td>0</td>\n",
       "      <td>0</td>\n",
       "      <td>0</td>\n",
       "      <td>47</td>\n",
       "      <td>1</td>\n",
       "      <td>110866</td>\n",
       "      <td>1</td>\n",
       "      <td>0</td>\n",
       "    </tr>\n",
       "    <tr>\n",
       "      <th>1</th>\n",
       "      <td>200000001</td>\n",
       "      <td>11</td>\n",
       "      <td>0</td>\n",
       "      <td>0</td>\n",
       "      <td>0</td>\n",
       "      <td>0</td>\n",
       "      <td>0</td>\n",
       "      <td>1.51</td>\n",
       "      <td>1.89</td>\n",
       "      <td>1.99</td>\n",
       "      <td>2.09</td>\n",
       "      <td>2.66</td>\n",
       "      <td>0</td>\n",
       "      <td>0</td>\n",
       "      <td>0</td>\n",
       "      <td>0</td>\n",
       "      <td>0</td>\n",
       "      <td>0</td>\n",
       "      <td>0</td>\n",
       "      <td>47</td>\n",
       "      <td>1</td>\n",
       "      <td>110866</td>\n",
       "      <td>1</td>\n",
       "      <td>0</td>\n",
       "    </tr>\n",
       "    <tr>\n",
       "      <th>2</th>\n",
       "      <td>200000001</td>\n",
       "      <td>12</td>\n",
       "      <td>0</td>\n",
       "      <td>0</td>\n",
       "      <td>0</td>\n",
       "      <td>0</td>\n",
       "      <td>0</td>\n",
       "      <td>1.51</td>\n",
       "      <td>1.89</td>\n",
       "      <td>1.99</td>\n",
       "      <td>2.09</td>\n",
       "      <td>2.66</td>\n",
       "      <td>0</td>\n",
       "      <td>0</td>\n",
       "      <td>0</td>\n",
       "      <td>0</td>\n",
       "      <td>0</td>\n",
       "      <td>0</td>\n",
       "      <td>0</td>\n",
       "      <td>47</td>\n",
       "      <td>1</td>\n",
       "      <td>110866</td>\n",
       "      <td>1</td>\n",
       "      <td>0</td>\n",
       "    </tr>\n",
       "    <tr>\n",
       "      <th>3</th>\n",
       "      <td>200000001</td>\n",
       "      <td>16</td>\n",
       "      <td>0</td>\n",
       "      <td>0</td>\n",
       "      <td>0</td>\n",
       "      <td>0</td>\n",
       "      <td>0</td>\n",
       "      <td>1.52</td>\n",
       "      <td>1.89</td>\n",
       "      <td>1.98</td>\n",
       "      <td>2.09</td>\n",
       "      <td>2.66</td>\n",
       "      <td>0</td>\n",
       "      <td>0</td>\n",
       "      <td>0</td>\n",
       "      <td>0</td>\n",
       "      <td>0</td>\n",
       "      <td>0</td>\n",
       "      <td>0</td>\n",
       "      <td>47</td>\n",
       "      <td>1</td>\n",
       "      <td>110866</td>\n",
       "      <td>1</td>\n",
       "      <td>0</td>\n",
       "    </tr>\n",
       "    <tr>\n",
       "      <th>4</th>\n",
       "      <td>200000001</td>\n",
       "      <td>18</td>\n",
       "      <td>0</td>\n",
       "      <td>0</td>\n",
       "      <td>0</td>\n",
       "      <td>0</td>\n",
       "      <td>0</td>\n",
       "      <td>1.52</td>\n",
       "      <td>1.89</td>\n",
       "      <td>1.99</td>\n",
       "      <td>2.09</td>\n",
       "      <td>2.66</td>\n",
       "      <td>0</td>\n",
       "      <td>0</td>\n",
       "      <td>0</td>\n",
       "      <td>0</td>\n",
       "      <td>0</td>\n",
       "      <td>0</td>\n",
       "      <td>0</td>\n",
       "      <td>47</td>\n",
       "      <td>1</td>\n",
       "      <td>110866</td>\n",
       "      <td>1</td>\n",
       "      <td>0</td>\n",
       "    </tr>\n",
       "  </tbody>\n",
       "</table>\n",
       "</div>"
      ],
      "text/plain": [
       "          ID  Day  Incidence  Brand  Quantity  Last_Inc_Brand  \\\n",
       "0  200000001    1          0      0         0               0   \n",
       "1  200000001   11          0      0         0               0   \n",
       "2  200000001   12          0      0         0               0   \n",
       "3  200000001   16          0      0         0               0   \n",
       "4  200000001   18          0      0         0               0   \n",
       "\n",
       "   Last_Inc_Quantity  Price_1  Price_2  Price_3  Price_4  Price_5  \\\n",
       "0                  0     1.59     1.87     2.01     2.09     2.66   \n",
       "1                  0     1.51     1.89     1.99     2.09     2.66   \n",
       "2                  0     1.51     1.89     1.99     2.09     2.66   \n",
       "3                  0     1.52     1.89     1.98     2.09     2.66   \n",
       "4                  0     1.52     1.89     1.99     2.09     2.66   \n",
       "\n",
       "   Promotion_1  Promotion_2  Promotion_3  Promotion_4  Promotion_5  Sex  \\\n",
       "0            0            1            0            0            0    0   \n",
       "1            0            0            0            0            0    0   \n",
       "2            0            0            0            0            0    0   \n",
       "3            0            0            0            0            0    0   \n",
       "4            0            0            0            0            0    0   \n",
       "\n",
       "   Marital status  Age  Education  Income  Occupation  Settlement size  \n",
       "0               0   47          1  110866           1                0  \n",
       "1               0   47          1  110866           1                0  \n",
       "2               0   47          1  110866           1                0  \n",
       "3               0   47          1  110866           1                0  \n",
       "4               0   47          1  110866           1                0  "
      ]
     },
     "execution_count": 2,
     "metadata": {},
     "output_type": "execute_result"
    }
   ],
   "source": [
    "#Load data\n",
    "df_purchase=pd.read_csv(r'https://raw.githubusercontent.com/asrarahmed01/Datasets/master/16.%20purchase%20data.csv')\n",
    "\n",
    "df_purchase.head()"
   ]
  },
  {
   "cell_type": "code",
   "execution_count": 3,
   "metadata": {},
   "outputs": [
    {
     "name": "stdout",
     "output_type": "stream",
     "text": [
      "All data types seem to be correct. \n",
      "Since all data types are numerical values, we can also deduce that there is no bad string data in these columns.\n"
     ]
    },
    {
     "data": {
      "text/plain": [
       "ID                     int64\n",
       "Day                    int64\n",
       "Incidence              int64\n",
       "Brand                  int64\n",
       "Quantity               int64\n",
       "Last_Inc_Brand         int64\n",
       "Last_Inc_Quantity      int64\n",
       "Price_1              float64\n",
       "Price_2              float64\n",
       "Price_3              float64\n",
       "Price_4              float64\n",
       "Price_5              float64\n",
       "Promotion_1            int64\n",
       "Promotion_2            int64\n",
       "Promotion_3            int64\n",
       "Promotion_4            int64\n",
       "Promotion_5            int64\n",
       "Sex                    int64\n",
       "Marital status         int64\n",
       "Age                    int64\n",
       "Education              int64\n",
       "Income                 int64\n",
       "Occupation             int64\n",
       "Settlement size        int64\n",
       "dtype: object"
      ]
     },
     "execution_count": 3,
     "metadata": {},
     "output_type": "execute_result"
    }
   ],
   "source": [
    "#checking for datatypes\n",
    "\n",
    "print('All data types seem to be correct. \\nSince all data types are numerical values, we can also deduce that there is no bad string data in these columns.')\n",
    "\n",
    "\n",
    "df_purchase.dtypes"
   ]
  },
  {
   "cell_type": "code",
   "execution_count": 4,
   "metadata": {},
   "outputs": [
    {
     "name": "stdout",
     "output_type": "stream",
     "text": [
      "No missing values detected.\n"
     ]
    },
    {
     "data": {
      "text/plain": [
       "ID                   0\n",
       "Day                  0\n",
       "Incidence            0\n",
       "Brand                0\n",
       "Quantity             0\n",
       "Last_Inc_Brand       0\n",
       "Last_Inc_Quantity    0\n",
       "Price_1              0\n",
       "Price_2              0\n",
       "Price_3              0\n",
       "Price_4              0\n",
       "Price_5              0\n",
       "Promotion_1          0\n",
       "Promotion_2          0\n",
       "Promotion_3          0\n",
       "Promotion_4          0\n",
       "Promotion_5          0\n",
       "Sex                  0\n",
       "Marital status       0\n",
       "Age                  0\n",
       "Education            0\n",
       "Income               0\n",
       "Occupation           0\n",
       "Settlement size      0\n",
       "dtype: int64"
      ]
     },
     "execution_count": 4,
     "metadata": {},
     "output_type": "execute_result"
    }
   ],
   "source": [
    "#checking for missing values\n",
    "\n",
    "print('No missing values detected.')\n",
    "df_purchase.isnull().sum()"
   ]
  },
  {
   "cell_type": "code",
   "execution_count": 5,
   "metadata": {},
   "outputs": [
    {
     "name": "stdout",
     "output_type": "stream",
     "text": [
      "Analysis:\n",
      "\n",
      "01. Sex and Marital Status are binary categorical features where females are denoted with 1. As such, females make up 39% of total customers in the dataset. In the Marital Status feature, married customers are denoted as 1. As such, 39% of customers is married.\n",
      "\n",
      "02. Age and Income are continuous features which are both slightly positively skewed (mean>median). We can conclude that ~95% of the population is between the ages of 24 - 62 (2 std of 24 with the mean of ~38). Also, 95% of the population makes between $40K - $200K.\n",
      "\n",
      "03. Education, Occupation and Settlement Size are ordinal data types and can not be much analyzed from these metrics. The higher the value in these fields, the higher the level of accomplishment.\n"
     ]
    },
    {
     "data": {
      "text/html": [
       "<div>\n",
       "<style scoped>\n",
       "    .dataframe tbody tr th:only-of-type {\n",
       "        vertical-align: middle;\n",
       "    }\n",
       "\n",
       "    .dataframe tbody tr th {\n",
       "        vertical-align: top;\n",
       "    }\n",
       "\n",
       "    .dataframe thead th {\n",
       "        text-align: right;\n",
       "    }\n",
       "</style>\n",
       "<table border=\"1\" class=\"dataframe\">\n",
       "  <thead>\n",
       "    <tr style=\"text-align: right;\">\n",
       "      <th></th>\n",
       "      <th>Sex</th>\n",
       "      <th>Marital status</th>\n",
       "      <th>Age</th>\n",
       "      <th>Education</th>\n",
       "      <th>Income</th>\n",
       "      <th>Occupation</th>\n",
       "      <th>Settlement size</th>\n",
       "    </tr>\n",
       "  </thead>\n",
       "  <tbody>\n",
       "    <tr>\n",
       "      <th>count</th>\n",
       "      <td>58693.000000</td>\n",
       "      <td>58693.000000</td>\n",
       "      <td>58693.000000</td>\n",
       "      <td>58693.000000</td>\n",
       "      <td>58693.000000</td>\n",
       "      <td>58693.000000</td>\n",
       "      <td>58693.000000</td>\n",
       "    </tr>\n",
       "    <tr>\n",
       "      <th>mean</th>\n",
       "      <td>0.385889</td>\n",
       "      <td>0.393113</td>\n",
       "      <td>38.793962</td>\n",
       "      <td>1.101579</td>\n",
       "      <td>121841.644319</td>\n",
       "      <td>0.774198</td>\n",
       "      <td>0.655904</td>\n",
       "    </tr>\n",
       "    <tr>\n",
       "      <th>std</th>\n",
       "      <td>0.486809</td>\n",
       "      <td>0.488446</td>\n",
       "      <td>12.052447</td>\n",
       "      <td>0.652499</td>\n",
       "      <td>40643.740678</td>\n",
       "      <td>0.663247</td>\n",
       "      <td>0.794162</td>\n",
       "    </tr>\n",
       "    <tr>\n",
       "      <th>min</th>\n",
       "      <td>0.000000</td>\n",
       "      <td>0.000000</td>\n",
       "      <td>18.000000</td>\n",
       "      <td>0.000000</td>\n",
       "      <td>38247.000000</td>\n",
       "      <td>0.000000</td>\n",
       "      <td>0.000000</td>\n",
       "    </tr>\n",
       "    <tr>\n",
       "      <th>25%</th>\n",
       "      <td>0.000000</td>\n",
       "      <td>0.000000</td>\n",
       "      <td>30.000000</td>\n",
       "      <td>1.000000</td>\n",
       "      <td>95541.000000</td>\n",
       "      <td>0.000000</td>\n",
       "      <td>0.000000</td>\n",
       "    </tr>\n",
       "    <tr>\n",
       "      <th>50%</th>\n",
       "      <td>0.000000</td>\n",
       "      <td>0.000000</td>\n",
       "      <td>36.000000</td>\n",
       "      <td>1.000000</td>\n",
       "      <td>117971.000000</td>\n",
       "      <td>1.000000</td>\n",
       "      <td>0.000000</td>\n",
       "    </tr>\n",
       "    <tr>\n",
       "      <th>75%</th>\n",
       "      <td>1.000000</td>\n",
       "      <td>1.000000</td>\n",
       "      <td>46.000000</td>\n",
       "      <td>1.000000</td>\n",
       "      <td>138525.000000</td>\n",
       "      <td>1.000000</td>\n",
       "      <td>1.000000</td>\n",
       "    </tr>\n",
       "    <tr>\n",
       "      <th>max</th>\n",
       "      <td>1.000000</td>\n",
       "      <td>1.000000</td>\n",
       "      <td>75.000000</td>\n",
       "      <td>3.000000</td>\n",
       "      <td>309364.000000</td>\n",
       "      <td>2.000000</td>\n",
       "      <td>2.000000</td>\n",
       "    </tr>\n",
       "  </tbody>\n",
       "</table>\n",
       "</div>"
      ],
      "text/plain": [
       "                Sex  Marital status           Age     Education  \\\n",
       "count  58693.000000    58693.000000  58693.000000  58693.000000   \n",
       "mean       0.385889        0.393113     38.793962      1.101579   \n",
       "std        0.486809        0.488446     12.052447      0.652499   \n",
       "min        0.000000        0.000000     18.000000      0.000000   \n",
       "25%        0.000000        0.000000     30.000000      1.000000   \n",
       "50%        0.000000        0.000000     36.000000      1.000000   \n",
       "75%        1.000000        1.000000     46.000000      1.000000   \n",
       "max        1.000000        1.000000     75.000000      3.000000   \n",
       "\n",
       "              Income    Occupation  Settlement size  \n",
       "count   58693.000000  58693.000000     58693.000000  \n",
       "mean   121841.644319      0.774198         0.655904  \n",
       "std     40643.740678      0.663247         0.794162  \n",
       "min     38247.000000      0.000000         0.000000  \n",
       "25%     95541.000000      0.000000         0.000000  \n",
       "50%    117971.000000      1.000000         0.000000  \n",
       "75%    138525.000000      1.000000         1.000000  \n",
       "max    309364.000000      2.000000         2.000000  "
      ]
     },
     "execution_count": 5,
     "metadata": {},
     "output_type": "execute_result"
    }
   ],
   "source": [
    "#Basic descriptive analysis of social-demographic features\n",
    "\n",
    "demographic_features=['Sex','Marital status','Age','Education','Income','Occupation','Settlement size']\n",
    "\n",
    "print(\"Analysis:\\n\\n01. Sex and Marital Status are binary categorical features where females are denoted with 1. As such, females make up 39% of total customers in the dataset. In the Marital Status feature, married customers are denoted as 1. As such, 39% of customers is married.\\n\\n02. Age and Income are continuous features which are both slightly positively skewed (mean>median). We can conclude that ~95% of the population is between the ages of 24 - 62 (2 std of 24 with the mean of ~38). Also, 95% of the population makes between $40K - $200K.\\n\\n03. Education, Occupation and Settlement Size are ordinal data types and can not be much analyzed from these metrics. The higher the value in these fields, the higher the level of accomplishment.\")\n",
    "\n",
    "df_purchase[demographic_features].describe()"
   ]
  },
  {
   "cell_type": "code",
   "execution_count": 6,
   "metadata": {},
   "outputs": [],
   "source": [
    "#standardizing the demographic features\n",
    "\n",
    "scaler=StandardScaler()\n",
    "segmentation_std=scaler.fit_transform(df_purchase[demographic_features])  "
   ]
  },
  {
   "cell_type": "markdown",
   "metadata": {},
   "source": [
    "## A. SEGMENTATION"
   ]
  },
  {
   "cell_type": "markdown",
   "metadata": {},
   "source": [
    "### A1. Segmentation with PCA and Kmeans ###"
   ]
  },
  {
   "cell_type": "markdown",
   "metadata": {},
   "source": [
    "**A1a. PCA Determination**"
   ]
  },
  {
   "cell_type": "code",
   "execution_count": 7,
   "metadata": {},
   "outputs": [
    {
     "name": "stdout",
     "output_type": "stream",
     "text": [
      "Analysis:\n",
      "\n",
      "Going with ~80% explained variance, we will go with 3 principal components.\n"
     ]
    },
    {
     "data": {
      "image/png": "[encoded data removed]",
      "text/plain": [
       "<Figure size 864x648 with 1 Axes>"
      ]
     },
     "metadata": {
      "needs_background": "light"
     },
     "output_type": "display_data"
    }
   ],
   "source": [
    "#initiating PCA\n",
    "pca=PCA() \n",
    "\n",
    "\n",
    "#Frequently Used Attributes:\n",
    "#pca.explained_variance_ratio_: provides data(variance) that is maintained with each addition feature\n",
    "#pca.components_: will provide pca values for the number of requested features\n",
    "\n",
    "\n",
    "#fit standardized segmentation\n",
    "pca.fit(segmentation_std)  \n",
    "\n",
    "\n",
    "print(f'Analysis:\\n\\nGoing with ~80% explained variance, we will go with 3 principal components.')\n",
    "\n",
    "plt.figure(figsize=(12,9))\n",
    "plt.plot(range(1,len(demographic_features)+1),pca.explained_variance_ratio_.cumsum(),marker='o',linestyle='--')\n",
    "plt.title(\"Explained Variance by Components\")\n",
    "plt.xlabel(\"Number of Components\")\n",
    "plt.ylabel('Cumulative Explained Variance')\n",
    "plt.show()"
   ]
  },
  {
   "cell_type": "code",
   "execution_count": 8,
   "metadata": {},
   "outputs": [
    {
     "name": "stdout",
     "output_type": "stream",
     "text": [
      "Analysis:\n",
      "\n",
      "The correlation loadings between the scores and the source data are reflected in the dataframe below. We can conclude that:\n",
      "01. Component 1 is best correlated with Income.\n",
      "02. Component 2 is best correlated with Sex and Marital Status\n",
      "03. Comopnent 3 is best correlated with Age.\n"
     ]
    },
    {
     "data": {
      "text/html": [
       "<div>\n",
       "<style scoped>\n",
       "    .dataframe tbody tr th:only-of-type {\n",
       "        vertical-align: middle;\n",
       "    }\n",
       "\n",
       "    .dataframe tbody tr th {\n",
       "        vertical-align: top;\n",
       "    }\n",
       "\n",
       "    .dataframe thead th {\n",
       "        text-align: right;\n",
       "    }\n",
       "</style>\n",
       "<table border=\"1\" class=\"dataframe\">\n",
       "  <thead>\n",
       "    <tr style=\"text-align: right;\">\n",
       "      <th></th>\n",
       "      <th>Sex</th>\n",
       "      <th>Marital status</th>\n",
       "      <th>Age</th>\n",
       "      <th>Education</th>\n",
       "      <th>Income</th>\n",
       "      <th>Occupation</th>\n",
       "      <th>Settlement size</th>\n",
       "    </tr>\n",
       "  </thead>\n",
       "  <tbody>\n",
       "    <tr>\n",
       "      <th>Component 1</th>\n",
       "      <td>-0.044219</td>\n",
       "      <td>0.129980</td>\n",
       "      <td>0.383277</td>\n",
       "      <td>0.408239</td>\n",
       "      <td>0.514840</td>\n",
       "      <td>0.469535</td>\n",
       "      <td>0.426692</td>\n",
       "    </tr>\n",
       "    <tr>\n",
       "      <th>Component 2</th>\n",
       "      <td>0.627188</td>\n",
       "      <td>0.606626</td>\n",
       "      <td>0.018888</td>\n",
       "      <td>0.394983</td>\n",
       "      <td>-0.105629</td>\n",
       "      <td>-0.154097</td>\n",
       "      <td>-0.217642</td>\n",
       "    </tr>\n",
       "    <tr>\n",
       "      <th>Component 3</th>\n",
       "      <td>-0.188804</td>\n",
       "      <td>-0.317056</td>\n",
       "      <td>0.662721</td>\n",
       "      <td>0.405791</td>\n",
       "      <td>-0.160697</td>\n",
       "      <td>-0.399526</td>\n",
       "      <td>-0.272981</td>\n",
       "    </tr>\n",
       "  </tbody>\n",
       "</table>\n",
       "</div>"
      ],
      "text/plain": [
       "                  Sex  Marital status       Age  Education    Income  \\\n",
       "Component 1 -0.044219        0.129980  0.383277   0.408239  0.514840   \n",
       "Component 2  0.627188        0.606626  0.018888   0.394983 -0.105629   \n",
       "Component 3 -0.188804       -0.317056  0.662721   0.405791 -0.160697   \n",
       "\n",
       "             Occupation  Settlement size  \n",
       "Component 1    0.469535         0.426692  \n",
       "Component 2   -0.154097        -0.217642  \n",
       "Component 3   -0.399526        -0.272981  "
      ]
     },
     "execution_count": 8,
     "metadata": {},
     "output_type": "execute_result"
    }
   ],
   "source": [
    "#initiating PCA with 3 components\n",
    "pca=PCA(n_components=3)\n",
    "\n",
    "#fit standardized segmentation\n",
    "scores_pca = pca.fit(segmentation_std)\n",
    "\n",
    "print(f'Analysis:\\n\\nThe correlation loadings between the scores and the source data are reflected in the dataframe below. We can conclude that:\\n01. Component 1 is best correlated with Income.\\n02. Component 2 is best correlated with Sex and Marital Status\\n03. Comopnent 3 is best correlated with Age.')\n",
    "\n",
    "#dataframe out of pca.components\n",
    "df_pca_comp=pd.DataFrame(data=pca.components_, columns=demographic_features, index=['Component 1','Component 2','Component 3'])\n",
    "\n",
    "\n",
    "df_pca_comp"
   ]
  },
  {
   "cell_type": "code",
   "execution_count": 9,
   "metadata": {},
   "outputs": [
    {
     "name": "stdout",
     "output_type": "stream",
     "text": [
      "Analysis:\n",
      "\n",
      "Using PCA with 3 components, reduced the number of demographic dimensions from 7 to 3. The shape of the array is (58693, 3).\n"
     ]
    },
    {
     "data": {
      "text/html": [
       "<div>\n",
       "<style scoped>\n",
       "    .dataframe tbody tr th:only-of-type {\n",
       "        vertical-align: middle;\n",
       "    }\n",
       "\n",
       "    .dataframe tbody tr th {\n",
       "        vertical-align: top;\n",
       "    }\n",
       "\n",
       "    .dataframe thead th {\n",
       "        text-align: right;\n",
       "    }\n",
       "</style>\n",
       "<table border=\"1\" class=\"dataframe\">\n",
       "  <thead>\n",
       "    <tr style=\"text-align: right;\">\n",
       "      <th></th>\n",
       "      <th>PC_1_Income/Education</th>\n",
       "      <th>PC_2_Sex/Marital Status</th>\n",
       "      <th>PC_3_Age/Experience</th>\n",
       "    </tr>\n",
       "  </thead>\n",
       "  <tbody>\n",
       "    <tr>\n",
       "      <th>0</th>\n",
       "      <td>-0.203742</td>\n",
       "      <td>-0.878217</td>\n",
       "      <td>0.925728</td>\n",
       "    </tr>\n",
       "    <tr>\n",
       "      <th>1</th>\n",
       "      <td>-0.203742</td>\n",
       "      <td>-0.878217</td>\n",
       "      <td>0.925728</td>\n",
       "    </tr>\n",
       "    <tr>\n",
       "      <th>2</th>\n",
       "      <td>-0.203742</td>\n",
       "      <td>-0.878217</td>\n",
       "      <td>0.925728</td>\n",
       "    </tr>\n",
       "    <tr>\n",
       "      <th>3</th>\n",
       "      <td>-0.203742</td>\n",
       "      <td>-0.878217</td>\n",
       "      <td>0.925728</td>\n",
       "    </tr>\n",
       "    <tr>\n",
       "      <th>4</th>\n",
       "      <td>-0.203742</td>\n",
       "      <td>-0.878217</td>\n",
       "      <td>0.925728</td>\n",
       "    </tr>\n",
       "  </tbody>\n",
       "</table>\n",
       "</div>"
      ],
      "text/plain": [
       "   PC_1_Income/Education  PC_2_Sex/Marital Status  PC_3_Age/Experience\n",
       "0              -0.203742                -0.878217             0.925728\n",
       "1              -0.203742                -0.878217             0.925728\n",
       "2              -0.203742                -0.878217             0.925728\n",
       "3              -0.203742                -0.878217             0.925728\n",
       "4              -0.203742                -0.878217             0.925728"
      ]
     },
     "execution_count": 9,
     "metadata": {},
     "output_type": "execute_result"
    }
   ],
   "source": [
    "#transform standardized segmentation\n",
    "scores_pca=pca.transform(segmentation_std)\n",
    "\n",
    "\n",
    "print(f'Analysis:\\n\\nUsing PCA with 3 components, reduced the number of demographic dimensions from 7 to 3. The shape of the array is {scores_pca.shape}.')\n",
    "\n",
    "\n",
    "#dataframe out of pca.components\n",
    "df_pca_scores=pd.DataFrame(data=scores_pca, columns=['PC_1_Income/Education','PC_2_Sex/Marital Status','PC_3_Age/Experience'])\n",
    "\n",
    "df_pca_scores.head()"
   ]
  },
  {
   "cell_type": "code",
   "execution_count": 10,
   "metadata": {},
   "outputs": [
    {
     "data": {
      "text/html": [
       "<div>\n",
       "<style scoped>\n",
       "    .dataframe tbody tr th:only-of-type {\n",
       "        vertical-align: middle;\n",
       "    }\n",
       "\n",
       "    .dataframe tbody tr th {\n",
       "        vertical-align: top;\n",
       "    }\n",
       "\n",
       "    .dataframe thead th {\n",
       "        text-align: right;\n",
       "    }\n",
       "</style>\n",
       "<table border=\"1\" class=\"dataframe\">\n",
       "  <thead>\n",
       "    <tr style=\"text-align: right;\">\n",
       "      <th></th>\n",
       "      <th>ID</th>\n",
       "      <th>Sex</th>\n",
       "      <th>Marital status</th>\n",
       "      <th>Age</th>\n",
       "      <th>Education</th>\n",
       "      <th>Income</th>\n",
       "      <th>Occupation</th>\n",
       "      <th>Settlement size</th>\n",
       "      <th>PC_1_Income/Education</th>\n",
       "      <th>PC_2_Sex/Marital Status</th>\n",
       "      <th>PC_3_Age/Experience</th>\n",
       "    </tr>\n",
       "  </thead>\n",
       "  <tbody>\n",
       "    <tr>\n",
       "      <th>0</th>\n",
       "      <td>200000001</td>\n",
       "      <td>0</td>\n",
       "      <td>0</td>\n",
       "      <td>47</td>\n",
       "      <td>1</td>\n",
       "      <td>110866</td>\n",
       "      <td>1</td>\n",
       "      <td>0</td>\n",
       "      <td>-0.203742</td>\n",
       "      <td>-0.878217</td>\n",
       "      <td>0.925728</td>\n",
       "    </tr>\n",
       "    <tr>\n",
       "      <th>1</th>\n",
       "      <td>200000001</td>\n",
       "      <td>0</td>\n",
       "      <td>0</td>\n",
       "      <td>47</td>\n",
       "      <td>1</td>\n",
       "      <td>110866</td>\n",
       "      <td>1</td>\n",
       "      <td>0</td>\n",
       "      <td>-0.203742</td>\n",
       "      <td>-0.878217</td>\n",
       "      <td>0.925728</td>\n",
       "    </tr>\n",
       "    <tr>\n",
       "      <th>2</th>\n",
       "      <td>200000001</td>\n",
       "      <td>0</td>\n",
       "      <td>0</td>\n",
       "      <td>47</td>\n",
       "      <td>1</td>\n",
       "      <td>110866</td>\n",
       "      <td>1</td>\n",
       "      <td>0</td>\n",
       "      <td>-0.203742</td>\n",
       "      <td>-0.878217</td>\n",
       "      <td>0.925728</td>\n",
       "    </tr>\n",
       "    <tr>\n",
       "      <th>3</th>\n",
       "      <td>200000001</td>\n",
       "      <td>0</td>\n",
       "      <td>0</td>\n",
       "      <td>47</td>\n",
       "      <td>1</td>\n",
       "      <td>110866</td>\n",
       "      <td>1</td>\n",
       "      <td>0</td>\n",
       "      <td>-0.203742</td>\n",
       "      <td>-0.878217</td>\n",
       "      <td>0.925728</td>\n",
       "    </tr>\n",
       "    <tr>\n",
       "      <th>4</th>\n",
       "      <td>200000001</td>\n",
       "      <td>0</td>\n",
       "      <td>0</td>\n",
       "      <td>47</td>\n",
       "      <td>1</td>\n",
       "      <td>110866</td>\n",
       "      <td>1</td>\n",
       "      <td>0</td>\n",
       "      <td>-0.203742</td>\n",
       "      <td>-0.878217</td>\n",
       "      <td>0.925728</td>\n",
       "    </tr>\n",
       "  </tbody>\n",
       "</table>\n",
       "</div>"
      ],
      "text/plain": [
       "          ID  Sex  Marital status  Age  Education  Income  Occupation  \\\n",
       "0  200000001    0               0   47          1  110866           1   \n",
       "1  200000001    0               0   47          1  110866           1   \n",
       "2  200000001    0               0   47          1  110866           1   \n",
       "3  200000001    0               0   47          1  110866           1   \n",
       "4  200000001    0               0   47          1  110866           1   \n",
       "\n",
       "   Settlement size  PC_1_Income/Education  PC_2_Sex/Marital Status  \\\n",
       "0                0              -0.203742                -0.878217   \n",
       "1                0              -0.203742                -0.878217   \n",
       "2                0              -0.203742                -0.878217   \n",
       "3                0              -0.203742                -0.878217   \n",
       "4                0              -0.203742                -0.878217   \n",
       "\n",
       "   PC_3_Age/Experience  \n",
       "0             0.925728  \n",
       "1             0.925728  \n",
       "2             0.925728  \n",
       "3             0.925728  \n",
       "4             0.925728  "
      ]
     },
     "execution_count": 10,
     "metadata": {},
     "output_type": "execute_result"
    }
   ],
   "source": [
    "df_segm_pca_kmeans2=pd.concat([df_purchase['ID'],df_purchase[demographic_features].reset_index(drop=True),df_pca_scores],axis=1)\n",
    "df_segm_pca_kmeans2.head()\n"
   ]
  },
  {
   "cell_type": "markdown",
   "metadata": {},
   "source": [
    "**A1b. Cluster Determination via KMeans**"
   ]
  },
  {
   "cell_type": "code",
   "execution_count": 11,
   "metadata": {},
   "outputs": [
    {
     "name": "stdout",
     "output_type": "stream",
     "text": [
      "WCSS for each number of clusters in indicated below:\n",
      "\n",
      "{1: 325313.06015913043, 2: 219171.19193723067, 3: 170872.54228096982, 4: 133284.4855681134, 5: 114069.01178037151, 6: 96221.14273747618, 7: 82179.41517971014, 8: 71328.21960034904, 9: 65775.36970492413, 10: 60318.85315032635}\n"
     ]
    }
   ],
   "source": [
    "#calculating WCSS(Within Clusters Sum of Square) for various number of clusters\n",
    "\n",
    "#commonly used kmeans attributes\n",
    "#kmeans.labels_ = attribute reflects the cluster that observation belongs to\n",
    "#kmeans.inertia_ = attribute reflects the WCSS for that cluster\n",
    "\n",
    "wcss=[]\n",
    "wcss_={}\n",
    "for i in range(1,11):\n",
    "    kmeans_pca=KMeans(n_clusters=i, random_state=42)\n",
    "    kmeans_pca.fit(scores_pca)\n",
    "    wcss.append(kmeans_pca.inertia_)\n",
    "    wcss_[i]=kmeans_pca.inertia_\n",
    "    \n",
    "print(f'WCSS for each number of clusters in indicated below:\\n\\n{wcss_}')  \n"
   ]
  },
  {
   "cell_type": "code",
   "execution_count": 12,
   "metadata": {},
   "outputs": [
    {
     "name": "stdout",
     "output_type": "stream",
     "text": [
      "\n",
      "The optimal number of clusters seem to be 4 clusters so we will go with that.\n"
     ]
    },
    {
     "data": {
      "image/png": "[encoded data removed]",
      "text/plain": [
       "<Figure size 720x576 with 1 Axes>"
      ]
     },
     "metadata": {
      "needs_background": "light"
     },
     "output_type": "display_data"
    }
   ],
   "source": [
    "print('\\nThe optimal number of clusters seem to be 4 clusters so we will go with that.')\n",
    "\n",
    "plt.figure(figsize = (10,8))\n",
    "plt.plot(range(1,11),list(wcss_.values()),marker='o',linestyle='--')\n",
    "plt.xlabel('Number of Clusters')\n",
    "plt.ylabel('WCSS')\n",
    "plt.title('K_means_pca Clusters')\n",
    "plt.show()"
   ]
  },
  {
   "cell_type": "code",
   "execution_count": 13,
   "metadata": {},
   "outputs": [
    {
     "data": {
      "text/html": [
       "<div>\n",
       "<style scoped>\n",
       "    .dataframe tbody tr th:only-of-type {\n",
       "        vertical-align: middle;\n",
       "    }\n",
       "\n",
       "    .dataframe tbody tr th {\n",
       "        vertical-align: top;\n",
       "    }\n",
       "\n",
       "    .dataframe thead th {\n",
       "        text-align: right;\n",
       "    }\n",
       "</style>\n",
       "<table border=\"1\" class=\"dataframe\">\n",
       "  <thead>\n",
       "    <tr style=\"text-align: right;\">\n",
       "      <th></th>\n",
       "      <th>ID</th>\n",
       "      <th>Sex</th>\n",
       "      <th>Marital status</th>\n",
       "      <th>Age</th>\n",
       "      <th>Education</th>\n",
       "      <th>Income</th>\n",
       "      <th>Occupation</th>\n",
       "      <th>Settlement size</th>\n",
       "      <th>PC_1_Income</th>\n",
       "      <th>PC_2_Marital_Status</th>\n",
       "      <th>PC_3_Experience</th>\n",
       "      <th>Segment K-means PCA</th>\n",
       "    </tr>\n",
       "  </thead>\n",
       "  <tbody>\n",
       "    <tr>\n",
       "      <th>0</th>\n",
       "      <td>200000001</td>\n",
       "      <td>0</td>\n",
       "      <td>0</td>\n",
       "      <td>47</td>\n",
       "      <td>1</td>\n",
       "      <td>110866</td>\n",
       "      <td>1</td>\n",
       "      <td>0</td>\n",
       "      <td>-0.203742</td>\n",
       "      <td>-0.878217</td>\n",
       "      <td>0.925728</td>\n",
       "      <td>1</td>\n",
       "    </tr>\n",
       "    <tr>\n",
       "      <th>1</th>\n",
       "      <td>200000001</td>\n",
       "      <td>0</td>\n",
       "      <td>0</td>\n",
       "      <td>47</td>\n",
       "      <td>1</td>\n",
       "      <td>110866</td>\n",
       "      <td>1</td>\n",
       "      <td>0</td>\n",
       "      <td>-0.203742</td>\n",
       "      <td>-0.878217</td>\n",
       "      <td>0.925728</td>\n",
       "      <td>1</td>\n",
       "    </tr>\n",
       "    <tr>\n",
       "      <th>2</th>\n",
       "      <td>200000001</td>\n",
       "      <td>0</td>\n",
       "      <td>0</td>\n",
       "      <td>47</td>\n",
       "      <td>1</td>\n",
       "      <td>110866</td>\n",
       "      <td>1</td>\n",
       "      <td>0</td>\n",
       "      <td>-0.203742</td>\n",
       "      <td>-0.878217</td>\n",
       "      <td>0.925728</td>\n",
       "      <td>1</td>\n",
       "    </tr>\n",
       "    <tr>\n",
       "      <th>3</th>\n",
       "      <td>200000001</td>\n",
       "      <td>0</td>\n",
       "      <td>0</td>\n",
       "      <td>47</td>\n",
       "      <td>1</td>\n",
       "      <td>110866</td>\n",
       "      <td>1</td>\n",
       "      <td>0</td>\n",
       "      <td>-0.203742</td>\n",
       "      <td>-0.878217</td>\n",
       "      <td>0.925728</td>\n",
       "      <td>1</td>\n",
       "    </tr>\n",
       "    <tr>\n",
       "      <th>4</th>\n",
       "      <td>200000001</td>\n",
       "      <td>0</td>\n",
       "      <td>0</td>\n",
       "      <td>47</td>\n",
       "      <td>1</td>\n",
       "      <td>110866</td>\n",
       "      <td>1</td>\n",
       "      <td>0</td>\n",
       "      <td>-0.203742</td>\n",
       "      <td>-0.878217</td>\n",
       "      <td>0.925728</td>\n",
       "      <td>1</td>\n",
       "    </tr>\n",
       "  </tbody>\n",
       "</table>\n",
       "</div>"
      ],
      "text/plain": [
       "          ID  Sex  Marital status  Age  Education  Income  Occupation  \\\n",
       "0  200000001    0               0   47          1  110866           1   \n",
       "1  200000001    0               0   47          1  110866           1   \n",
       "2  200000001    0               0   47          1  110866           1   \n",
       "3  200000001    0               0   47          1  110866           1   \n",
       "4  200000001    0               0   47          1  110866           1   \n",
       "\n",
       "   Settlement size  PC_1_Income  PC_2_Marital_Status  PC_3_Experience  \\\n",
       "0                0    -0.203742            -0.878217         0.925728   \n",
       "1                0    -0.203742            -0.878217         0.925728   \n",
       "2                0    -0.203742            -0.878217         0.925728   \n",
       "3                0    -0.203742            -0.878217         0.925728   \n",
       "4                0    -0.203742            -0.878217         0.925728   \n",
       "\n",
       "   Segment K-means PCA  \n",
       "0                    1  \n",
       "1                    1  \n",
       "2                    1  \n",
       "3                    1  \n",
       "4                    1  "
      ]
     },
     "execution_count": 13,
     "metadata": {},
     "output_type": "execute_result"
    }
   ],
   "source": [
    "#initiating Kmeans with 4 clusters\n",
    "kmeans_pca=KMeans(n_clusters=4,random_state=42)\n",
    "\n",
    "#fitting PCA-3components array into kmeans\n",
    "kmeans_pca.fit(scores_pca)\n",
    "\n",
    "#combining the original df_segmentation dataframe with the pca df   \n",
    "df_segm_pca_kmeans=pd.concat([df_purchase['ID'],df_purchase[demographic_features].reset_index(drop=True),pd.DataFrame(scores_pca,columns=['PC_1_Income','PC_2_Marital_Status','PC_3_Experience'])],axis=1)\n",
    "\n",
    "#renaming the last 3 columns\n",
    "#df_segm_pca_kmeans.columns.values[-3:]=['PC_1_Income','PC_2_Marital_Status','PC_3_Experience']\n",
    "\n",
    "#creating a new columns for labels\n",
    "df_segm_pca_kmeans['Segment K-means PCA']=kmeans_pca.labels_\n",
    "\n",
    "df_segm_pca_kmeans.head()"
   ]
  },
  {
   "cell_type": "code",
   "execution_count": 14,
   "metadata": {},
   "outputs": [
    {
     "name": "stdout",
     "output_type": "stream",
     "text": [
      "(500, 11)\n"
     ]
    },
    {
     "data": {
      "text/html": [
       "<div>\n",
       "<style scoped>\n",
       "    .dataframe tbody tr th:only-of-type {\n",
       "        vertical-align: middle;\n",
       "    }\n",
       "\n",
       "    .dataframe tbody tr th {\n",
       "        vertical-align: top;\n",
       "    }\n",
       "\n",
       "    .dataframe thead th {\n",
       "        text-align: right;\n",
       "    }\n",
       "</style>\n",
       "<table border=\"1\" class=\"dataframe\">\n",
       "  <thead>\n",
       "    <tr style=\"text-align: right;\">\n",
       "      <th></th>\n",
       "      <th>Sex</th>\n",
       "      <th>Marital status</th>\n",
       "      <th>Age</th>\n",
       "      <th>Education</th>\n",
       "      <th>Income</th>\n",
       "      <th>Occupation</th>\n",
       "      <th>Settlement size</th>\n",
       "      <th>PC_1_Income</th>\n",
       "      <th>PC_2_Marital_Status</th>\n",
       "      <th>PC_3_Experience</th>\n",
       "      <th>Segment K-means PCA</th>\n",
       "    </tr>\n",
       "    <tr>\n",
       "      <th>ID</th>\n",
       "      <th></th>\n",
       "      <th></th>\n",
       "      <th></th>\n",
       "      <th></th>\n",
       "      <th></th>\n",
       "      <th></th>\n",
       "      <th></th>\n",
       "      <th></th>\n",
       "      <th></th>\n",
       "      <th></th>\n",
       "      <th></th>\n",
       "    </tr>\n",
       "  </thead>\n",
       "  <tbody>\n",
       "    <tr>\n",
       "      <th>200000001</th>\n",
       "      <td>0</td>\n",
       "      <td>0</td>\n",
       "      <td>47</td>\n",
       "      <td>1</td>\n",
       "      <td>110866</td>\n",
       "      <td>1</td>\n",
       "      <td>0</td>\n",
       "      <td>-0.203742</td>\n",
       "      <td>-0.878217</td>\n",
       "      <td>0.925728</td>\n",
       "      <td>1</td>\n",
       "    </tr>\n",
       "    <tr>\n",
       "      <th>200000002</th>\n",
       "      <td>1</td>\n",
       "      <td>1</td>\n",
       "      <td>52</td>\n",
       "      <td>2</td>\n",
       "      <td>159052</td>\n",
       "      <td>2</td>\n",
       "      <td>1</td>\n",
       "      <td>2.611814</td>\n",
       "      <td>1.633676</td>\n",
       "      <td>-0.351029</td>\n",
       "      <td>3</td>\n",
       "    </tr>\n",
       "    <tr>\n",
       "      <th>200000003</th>\n",
       "      <td>0</td>\n",
       "      <td>0</td>\n",
       "      <td>28</td>\n",
       "      <td>0</td>\n",
       "      <td>113212</td>\n",
       "      <td>1</td>\n",
       "      <td>0</td>\n",
       "      <td>-1.403904</td>\n",
       "      <td>-1.519434</td>\n",
       "      <td>-0.750207</td>\n",
       "      <td>1</td>\n",
       "    </tr>\n",
       "    <tr>\n",
       "      <th>200000004</th>\n",
       "      <td>0</td>\n",
       "      <td>0</td>\n",
       "      <td>37</td>\n",
       "      <td>1</td>\n",
       "      <td>119602</td>\n",
       "      <td>0</td>\n",
       "      <td>0</td>\n",
       "      <td>-1.119030</td>\n",
       "      <td>-0.684253</td>\n",
       "      <td>0.943702</td>\n",
       "      <td>1</td>\n",
       "    </tr>\n",
       "    <tr>\n",
       "      <th>200000005</th>\n",
       "      <td>0</td>\n",
       "      <td>0</td>\n",
       "      <td>49</td>\n",
       "      <td>1</td>\n",
       "      <td>121466</td>\n",
       "      <td>1</td>\n",
       "      <td>2</td>\n",
       "      <td>1.068714</td>\n",
       "      <td>-1.450742</td>\n",
       "      <td>0.306317</td>\n",
       "      <td>0</td>\n",
       "    </tr>\n",
       "  </tbody>\n",
       "</table>\n",
       "</div>"
      ],
      "text/plain": [
       "           Sex  Marital status  Age  Education  Income  Occupation  \\\n",
       "ID                                                                   \n",
       "200000001    0               0   47          1  110866           1   \n",
       "200000002    1               1   52          2  159052           2   \n",
       "200000003    0               0   28          0  113212           1   \n",
       "200000004    0               0   37          1  119602           0   \n",
       "200000005    0               0   49          1  121466           1   \n",
       "\n",
       "           Settlement size  PC_1_Income  PC_2_Marital_Status  PC_3_Experience  \\\n",
       "ID                                                                              \n",
       "200000001                0    -0.203742            -0.878217         0.925728   \n",
       "200000002                1     2.611814             1.633676        -0.351029   \n",
       "200000003                0    -1.403904            -1.519434        -0.750207   \n",
       "200000004                0    -1.119030            -0.684253         0.943702   \n",
       "200000005                2     1.068714            -1.450742         0.306317   \n",
       "\n",
       "           Segment K-means PCA  \n",
       "ID                              \n",
       "200000001                    1  \n",
       "200000002                    3  \n",
       "200000003                    1  \n",
       "200000004                    1  \n",
       "200000005                    0  "
      ]
     },
     "execution_count": 14,
     "metadata": {},
     "output_type": "execute_result"
    }
   ],
   "source": [
    "#Grouping the dataset by each customer (500 customers)\n",
    "\n",
    "df_segm_pca_kmeans_customer=df_segm_pca_kmeans.groupby('ID').mean()\n",
    "\n",
    "print(df_segm_pca_kmeans_customer.shape)\n",
    "\n",
    "df_segm_pca_kmeans_customer.head()"
   ]
  },
  {
   "cell_type": "markdown",
   "metadata": {},
   "source": [
    "### A2. Cluster Analysis ###\n",
    "- In steps 12 and 13 above, we determined there to be 4 best clusters. We will now analyze the social-economic makeup of each cluster."
   ]
  },
  {
   "cell_type": "markdown",
   "metadata": {},
   "source": [
    "**A2a. Cluster Description, Labeling and Visualization**"
   ]
  },
  {
   "cell_type": "code",
   "execution_count": 15,
   "metadata": {},
   "outputs": [
    {
     "name": "stdout",
     "output_type": "stream",
     "text": [
      "Analysis:\n",
      "\n",
      "01. Cluster 0 makes up ~21% of the population & consists of all males with an avg. age of ~38. ~16% of this cluster is married.   Even though they are not highly educated, they have the 2nd highest income. We will label this cluster - \"Upper_Middle_Class\".\n",
      "\n",
      "02. Cluster 1 makes up ~38% of the population with an avg. age of 36. Only 10% of this cluster is married and ~25% of this group is females. This group is the least educated and has the lowest income. We will label this cluster - \"Lower_Income\".\n",
      "\n",
      "03. Cluster 2 makes up ~23% of the population & consists of virually all females (over 90%) with an avg. age of ~30. ~86% of this cluster is married.  They are educated but do not make as much money as the Upper_Middle_Class. We will label this cluster - \"Lower_Middle_Class\".\n",
      "\n",
      "04. Cluster 3 makes up ~18% of the population & is evenly split between males and females. THe average age is 55 yo and ~66% of this group is married. This group makes the most income and is highly educated. We will label this cluster - \"Upper_Class\".\n"
     ]
    },
    {
     "data": {
      "text/html": [
       "<div>\n",
       "<style scoped>\n",
       "    .dataframe tbody tr th:only-of-type {\n",
       "        vertical-align: middle;\n",
       "    }\n",
       "\n",
       "    .dataframe tbody tr th {\n",
       "        vertical-align: top;\n",
       "    }\n",
       "\n",
       "    .dataframe thead th {\n",
       "        text-align: right;\n",
       "    }\n",
       "</style>\n",
       "<table border=\"1\" class=\"dataframe\">\n",
       "  <thead>\n",
       "    <tr style=\"text-align: right;\">\n",
       "      <th></th>\n",
       "      <th>Sex</th>\n",
       "      <th>Marital status</th>\n",
       "      <th>Age</th>\n",
       "      <th>Education</th>\n",
       "      <th>Income</th>\n",
       "      <th>Occupation</th>\n",
       "      <th>Settlement size</th>\n",
       "      <th>PC_1_Income</th>\n",
       "      <th>PC_2_Marital_Status</th>\n",
       "      <th>PC_3_Experience</th>\n",
       "      <th>Segment K-means PCA</th>\n",
       "      <th>N_Obs</th>\n",
       "      <th>Prop_OBS</th>\n",
       "    </tr>\n",
       "    <tr>\n",
       "      <th>Segment K-means PCA</th>\n",
       "      <th></th>\n",
       "      <th></th>\n",
       "      <th></th>\n",
       "      <th></th>\n",
       "      <th></th>\n",
       "      <th></th>\n",
       "      <th></th>\n",
       "      <th></th>\n",
       "      <th></th>\n",
       "      <th></th>\n",
       "      <th></th>\n",
       "      <th></th>\n",
       "      <th></th>\n",
       "    </tr>\n",
       "  </thead>\n",
       "  <tbody>\n",
       "    <tr>\n",
       "      <th>0</th>\n",
       "      <td>0.000000</td>\n",
       "      <td>0.155340</td>\n",
       "      <td>37.932039</td>\n",
       "      <td>0.815534</td>\n",
       "      <td>141745.932039</td>\n",
       "      <td>1.320388</td>\n",
       "      <td>1.495146</td>\n",
       "      <td>0.855119</td>\n",
       "      <td>-1.375613</td>\n",
       "      <td>-0.617473</td>\n",
       "      <td>0</td>\n",
       "      <td>103</td>\n",
       "      <td>0.206</td>\n",
       "    </tr>\n",
       "    <tr>\n",
       "      <th>1</th>\n",
       "      <td>0.247368</td>\n",
       "      <td>0.105263</td>\n",
       "      <td>36.221053</td>\n",
       "      <td>0.768421</td>\n",
       "      <td>96757.063158</td>\n",
       "      <td>0.268421</td>\n",
       "      <td>0.052632</td>\n",
       "      <td>-1.354228</td>\n",
       "      <td>-0.393639</td>\n",
       "      <td>0.503122</td>\n",
       "      <td>1</td>\n",
       "      <td>190</td>\n",
       "      <td>0.380</td>\n",
       "    </tr>\n",
       "    <tr>\n",
       "      <th>2</th>\n",
       "      <td>0.904348</td>\n",
       "      <td>0.860870</td>\n",
       "      <td>30.086957</td>\n",
       "      <td>1.069565</td>\n",
       "      <td>111082.843478</td>\n",
       "      <td>0.721739</td>\n",
       "      <td>0.408696</td>\n",
       "      <td>-0.525785</td>\n",
       "      <td>1.323780</td>\n",
       "      <td>-0.844277</td>\n",
       "      <td>2</td>\n",
       "      <td>115</td>\n",
       "      <td>0.230</td>\n",
       "    </tr>\n",
       "    <tr>\n",
       "      <th>3</th>\n",
       "      <td>0.467391</td>\n",
       "      <td>0.663043</td>\n",
       "      <td>55.315217</td>\n",
       "      <td>2.119565</td>\n",
       "      <td>163063.923913</td>\n",
       "      <td>1.239130</td>\n",
       "      <td>1.173913</td>\n",
       "      <td>2.356373</td>\n",
       "      <td>0.725252</td>\n",
       "      <td>0.713608</td>\n",
       "      <td>3</td>\n",
       "      <td>92</td>\n",
       "      <td>0.184</td>\n",
       "    </tr>\n",
       "  </tbody>\n",
       "</table>\n",
       "</div>"
      ],
      "text/plain": [
       "                          Sex  Marital status        Age  Education  \\\n",
       "Segment K-means PCA                                                   \n",
       "0                    0.000000        0.155340  37.932039   0.815534   \n",
       "1                    0.247368        0.105263  36.221053   0.768421   \n",
       "2                    0.904348        0.860870  30.086957   1.069565   \n",
       "3                    0.467391        0.663043  55.315217   2.119565   \n",
       "\n",
       "                            Income  Occupation  Settlement size  PC_1_Income  \\\n",
       "Segment K-means PCA                                                            \n",
       "0                    141745.932039    1.320388         1.495146     0.855119   \n",
       "1                     96757.063158    0.268421         0.052632    -1.354228   \n",
       "2                    111082.843478    0.721739         0.408696    -0.525785   \n",
       "3                    163063.923913    1.239130         1.173913     2.356373   \n",
       "\n",
       "                     PC_2_Marital_Status  PC_3_Experience  \\\n",
       "Segment K-means PCA                                         \n",
       "0                              -1.375613        -0.617473   \n",
       "1                              -0.393639         0.503122   \n",
       "2                               1.323780        -0.844277   \n",
       "3                               0.725252         0.713608   \n",
       "\n",
       "                     Segment K-means PCA  N_Obs  Prop_OBS  \n",
       "Segment K-means PCA                                        \n",
       "0                                      0    103     0.206  \n",
       "1                                      1    190     0.380  \n",
       "2                                      2    115     0.230  \n",
       "3                                      3     92     0.184  "
      ]
     },
     "execution_count": 15,
     "metadata": {},
     "output_type": "execute_result"
    }
   ],
   "source": [
    "#customer database grouped by clusters\n",
    "df_segm_pca_kmeans_freq=df_segm_pca_kmeans_customer.groupby(['Segment K-means PCA'])[df_segm_pca_kmeans.columns[1:]].mean()\n",
    "\n",
    "#new column of the count of features grouped by clusters\n",
    "df_segm_pca_kmeans_freq['N_Obs']=df_segm_pca_kmeans_customer[['Segment K-means PCA','Sex']].groupby(['Segment K-means PCA']).count()\n",
    "\n",
    "#new column of the proportionate of each cluster\n",
    "df_segm_pca_kmeans_freq['Prop_OBS']=df_segm_pca_kmeans_freq ['N_Obs'] / df_segm_pca_kmeans_freq['N_Obs'].sum()\n",
    "\n",
    "print('Analysis:\\n\\n01. Cluster 0 makes up ~21% of the population & consists of all males with an avg. age of ~38. ~16% of this cluster is married.   Even though they are not highly educated, they have the 2nd highest income. We will label this cluster - \"Upper_Middle_Class\".\\n\\n02. Cluster 1 makes up ~38% of the population with an avg. age of 36. Only 10% of this cluster is married and ~25% of this group is females. This group is the least educated and has the lowest income. We will label this cluster - \"Lower_Income\".\\n\\n03. Cluster 2 makes up ~23% of the population & consists of virually all females (over 90%) with an avg. age of ~30. ~86% of this cluster is married.  They are educated but do not make as much money as the Upper_Middle_Class. We will label this cluster - \"Lower_Middle_Class\".\\n\\n04. Cluster 3 makes up ~18% of the population & is evenly split between males and females. THe average age is 55 yo and ~66% of this group is married. This group makes the most income and is highly educated. We will label this cluster - \"Upper_Class\".')\n",
    "\n",
    "df_segm_pca_kmeans_freq"
   ]
  },
  {
   "cell_type": "code",
   "execution_count": 16,
   "metadata": {},
   "outputs": [
    {
     "data": {
      "text/html": [
       "<div>\n",
       "<style scoped>\n",
       "    .dataframe tbody tr th:only-of-type {\n",
       "        vertical-align: middle;\n",
       "    }\n",
       "\n",
       "    .dataframe tbody tr th {\n",
       "        vertical-align: top;\n",
       "    }\n",
       "\n",
       "    .dataframe thead th {\n",
       "        text-align: right;\n",
       "    }\n",
       "</style>\n",
       "<table border=\"1\" class=\"dataframe\">\n",
       "  <thead>\n",
       "    <tr style=\"text-align: right;\">\n",
       "      <th></th>\n",
       "      <th>Sex</th>\n",
       "      <th>Marital status</th>\n",
       "      <th>Age</th>\n",
       "      <th>Education</th>\n",
       "      <th>Income</th>\n",
       "      <th>Occupation</th>\n",
       "      <th>Settlement size</th>\n",
       "      <th>PC_1_Income</th>\n",
       "      <th>PC_2_Marital_Status</th>\n",
       "      <th>PC_3_Experience</th>\n",
       "      <th>Segment K-means PCA</th>\n",
       "      <th>Legend</th>\n",
       "    </tr>\n",
       "    <tr>\n",
       "      <th>ID</th>\n",
       "      <th></th>\n",
       "      <th></th>\n",
       "      <th></th>\n",
       "      <th></th>\n",
       "      <th></th>\n",
       "      <th></th>\n",
       "      <th></th>\n",
       "      <th></th>\n",
       "      <th></th>\n",
       "      <th></th>\n",
       "      <th></th>\n",
       "      <th></th>\n",
       "    </tr>\n",
       "  </thead>\n",
       "  <tbody>\n",
       "    <tr>\n",
       "      <th>200000001</th>\n",
       "      <td>0</td>\n",
       "      <td>0</td>\n",
       "      <td>47</td>\n",
       "      <td>1</td>\n",
       "      <td>110866</td>\n",
       "      <td>1</td>\n",
       "      <td>0</td>\n",
       "      <td>-0.203742</td>\n",
       "      <td>-0.878217</td>\n",
       "      <td>0.925728</td>\n",
       "      <td>1</td>\n",
       "      <td>Low_Income</td>\n",
       "    </tr>\n",
       "    <tr>\n",
       "      <th>200000002</th>\n",
       "      <td>1</td>\n",
       "      <td>1</td>\n",
       "      <td>52</td>\n",
       "      <td>2</td>\n",
       "      <td>159052</td>\n",
       "      <td>2</td>\n",
       "      <td>1</td>\n",
       "      <td>2.611814</td>\n",
       "      <td>1.633676</td>\n",
       "      <td>-0.351029</td>\n",
       "      <td>3</td>\n",
       "      <td>Upper_Class</td>\n",
       "    </tr>\n",
       "    <tr>\n",
       "      <th>200000003</th>\n",
       "      <td>0</td>\n",
       "      <td>0</td>\n",
       "      <td>28</td>\n",
       "      <td>0</td>\n",
       "      <td>113212</td>\n",
       "      <td>1</td>\n",
       "      <td>0</td>\n",
       "      <td>-1.403904</td>\n",
       "      <td>-1.519434</td>\n",
       "      <td>-0.750207</td>\n",
       "      <td>1</td>\n",
       "      <td>Low_Income</td>\n",
       "    </tr>\n",
       "    <tr>\n",
       "      <th>200000004</th>\n",
       "      <td>0</td>\n",
       "      <td>0</td>\n",
       "      <td>37</td>\n",
       "      <td>1</td>\n",
       "      <td>119602</td>\n",
       "      <td>0</td>\n",
       "      <td>0</td>\n",
       "      <td>-1.119030</td>\n",
       "      <td>-0.684253</td>\n",
       "      <td>0.943702</td>\n",
       "      <td>1</td>\n",
       "      <td>Low_Income</td>\n",
       "    </tr>\n",
       "    <tr>\n",
       "      <th>200000005</th>\n",
       "      <td>0</td>\n",
       "      <td>0</td>\n",
       "      <td>49</td>\n",
       "      <td>1</td>\n",
       "      <td>121466</td>\n",
       "      <td>1</td>\n",
       "      <td>2</td>\n",
       "      <td>1.068714</td>\n",
       "      <td>-1.450742</td>\n",
       "      <td>0.306317</td>\n",
       "      <td>0</td>\n",
       "      <td>Upper_Middle_Class</td>\n",
       "    </tr>\n",
       "  </tbody>\n",
       "</table>\n",
       "</div>"
      ],
      "text/plain": [
       "           Sex  Marital status  Age  Education  Income  Occupation  \\\n",
       "ID                                                                   \n",
       "200000001    0               0   47          1  110866           1   \n",
       "200000002    1               1   52          2  159052           2   \n",
       "200000003    0               0   28          0  113212           1   \n",
       "200000004    0               0   37          1  119602           0   \n",
       "200000005    0               0   49          1  121466           1   \n",
       "\n",
       "           Settlement size  PC_1_Income  PC_2_Marital_Status  PC_3_Experience  \\\n",
       "ID                                                                              \n",
       "200000001                0    -0.203742            -0.878217         0.925728   \n",
       "200000002                1     2.611814             1.633676        -0.351029   \n",
       "200000003                0    -1.403904            -1.519434        -0.750207   \n",
       "200000004                0    -1.119030            -0.684253         0.943702   \n",
       "200000005                2     1.068714            -1.450742         0.306317   \n",
       "\n",
       "           Segment K-means PCA              Legend  \n",
       "ID                                                  \n",
       "200000001                    1          Low_Income  \n",
       "200000002                    3         Upper_Class  \n",
       "200000003                    1          Low_Income  \n",
       "200000004                    1          Low_Income  \n",
       "200000005                    0  Upper_Middle_Class  "
      ]
     },
     "execution_count": 16,
     "metadata": {},
     "output_type": "execute_result"
    }
   ],
   "source": [
    "#labeling clusters\n",
    "\n",
    "df_segm_pca_kmeans_customer['Legend']=df_segm_pca_kmeans_customer['Segment K-means PCA'].map({0:'Upper_Middle_Class',1:'Low_Income',2:'Lower_Middle_Class',3:'Upper_Class'})\n",
    "\n",
    "df_segm_pca_kmeans_customer.head()"
   ]
  },
  {
   "cell_type": "code",
   "execution_count": 17,
   "metadata": {},
   "outputs": [
    {
     "name": "stdout",
     "output_type": "stream",
     "text": [
      "Even though some clusters overlap, most of the clusters are relatively better differentiated than they would have been without PCA\n"
     ]
    },
    {
     "data": {
      "image/png": "[encoded data removed]",
      "text/plain": [
       "<Figure size 720x576 with 1 Axes>"
      ]
     },
     "metadata": {
      "needs_background": "light"
     },
     "output_type": "display_data"
    }
   ],
   "source": [
    "#Visual representation of dfferent clusters\n",
    "\n",
    "print(\"Even though some clusters overlap, most of the clusters are relatively better differentiated than they would have been without PCA\")\n",
    "\n",
    "\n",
    "plt.figure(figsize=(10,8))\n",
    "\n",
    "sns.scatterplot(df_segm_pca_kmeans_customer['PC_2_Marital_Status'],df_segm_pca_kmeans_customer['PC_1_Income'],hue=df_segm_pca_kmeans_customer['Legend'],palette=['g','orange','c','red'])\n",
    "plt.title('CLUSTERS BY PCA COMPONENT')\n",
    "plt.show()"
   ]
  },
  {
   "cell_type": "markdown",
   "metadata": {},
   "source": [
    "**A2b. Segment Size and Proportions**"
   ]
  },
  {
   "cell_type": "code",
   "execution_count": 18,
   "metadata": {},
   "outputs": [
    {
     "data": {
      "text/html": [
       "<div>\n",
       "<style scoped>\n",
       "    .dataframe tbody tr th:only-of-type {\n",
       "        vertical-align: middle;\n",
       "    }\n",
       "\n",
       "    .dataframe tbody tr th {\n",
       "        vertical-align: top;\n",
       "    }\n",
       "\n",
       "    .dataframe thead th {\n",
       "        text-align: right;\n",
       "    }\n",
       "</style>\n",
       "<table border=\"1\" class=\"dataframe\">\n",
       "  <thead>\n",
       "    <tr style=\"text-align: right;\">\n",
       "      <th></th>\n",
       "      <th>Count</th>\n",
       "      <th>Segm_Label</th>\n",
       "      <th>Segm_size</th>\n",
       "      <th>Color</th>\n",
       "    </tr>\n",
       "  </thead>\n",
       "  <tbody>\n",
       "    <tr>\n",
       "      <th>1</th>\n",
       "      <td>190</td>\n",
       "      <td>Low Income</td>\n",
       "      <td>0.380</td>\n",
       "      <td>Green</td>\n",
       "    </tr>\n",
       "    <tr>\n",
       "      <th>2</th>\n",
       "      <td>115</td>\n",
       "      <td>Lower_Middle_Class</td>\n",
       "      <td>0.230</td>\n",
       "      <td>Red</td>\n",
       "    </tr>\n",
       "    <tr>\n",
       "      <th>0</th>\n",
       "      <td>103</td>\n",
       "      <td>Upper_Middle_Class</td>\n",
       "      <td>0.206</td>\n",
       "      <td>Blue</td>\n",
       "    </tr>\n",
       "    <tr>\n",
       "      <th>3</th>\n",
       "      <td>92</td>\n",
       "      <td>Upper_Class</td>\n",
       "      <td>0.184</td>\n",
       "      <td>Orange</td>\n",
       "    </tr>\n",
       "  </tbody>\n",
       "</table>\n",
       "</div>"
      ],
      "text/plain": [
       "   Count          Segm_Label  Segm_size   Color\n",
       "1    190          Low Income      0.380   Green\n",
       "2    115  Lower_Middle_Class      0.230     Red\n",
       "0    103  Upper_Middle_Class      0.206    Blue\n",
       "3     92         Upper_Class      0.184  Orange"
      ]
     },
     "execution_count": 18,
     "metadata": {},
     "output_type": "execute_result"
    }
   ],
   "source": [
    "Segm_df=pd.DataFrame(df_segm_pca_kmeans_customer['Segment K-means PCA'].value_counts()).rename({'Segment K-means PCA':'Count'},axis=1)\n",
    "\n",
    "Segm_df['Segm_Label']=['Low Income','Lower_Middle_Class','Upper_Middle_Class','Upper_Class']\n",
    "\n",
    "Segm_df['Segm_size']=Segm_df['Count']/Segm_df['Count'].sum()\n",
    "\n",
    "Segm_df['Color']=['Green','Red','Blue','Orange']\n",
    "\n",
    "Segm_df"
   ]
  },
  {
   "cell_type": "code",
   "execution_count": 19,
   "metadata": {},
   "outputs": [
    {
     "name": "stdout",
     "output_type": "stream",
     "text": [
      "Analysis:\n",
      "\n",
      "Low_Income Cluster is the largest at 38% and the Upper_Class_Cluster is the smallest at 18%\n"
     ]
    },
    {
     "data": {
      "image/png": "[encoded data removed]",
      "text/plain": [
       "<Figure size 648x432 with 1 Axes>"
      ]
     },
     "metadata": {},
     "output_type": "display_data"
    }
   ],
   "source": [
    "print('Analysis:\\n\\nLow_Income Cluster is the largest at 38% and the Upper_Class_Cluster is the smallest at 18%')\n",
    "plt.figure(figsize=(9,6))\n",
    "#plt.pie(segm_prop['Segment Proportions'], labels=['Upper_Middle_Class','Low_Income','Lower-Middle_Class','Upper_Class'],autopct=\"%1.1f%%\" , wedgeprops={\"edgecolor\":\"black\"},colors=['b','g','r','orange']  )\n",
    "\n",
    "\n",
    "plt.pie(df_segm_pca_kmeans_customer['Segment K-means PCA'].value_counts(), labels=['Low_Income','Lower_Middle_Class','Upper_Middle_Class','Upper_Class'],autopct=\"%1.1f%%\" , wedgeprops={\"edgecolor\":\"black\"},colors=['g','r','b','orange']  )\n",
    "\n",
    "plt.title('Segmentation Clusters')\n",
    "plt.show()"
   ]
  },
  {
   "cell_type": "markdown",
   "metadata": {},
   "source": [
    "**A2c. Purchase Behavior by Segment**"
   ]
  },
  {
   "cell_type": "code",
   "execution_count": 20,
   "metadata": {},
   "outputs": [
    {
     "name": "stdout",
     "output_type": "stream",
     "text": [
      "This is the master dataframe with all the features\n"
     ]
    },
    {
     "data": {
      "text/html": [
       "<div>\n",
       "<style scoped>\n",
       "    .dataframe tbody tr th:only-of-type {\n",
       "        vertical-align: middle;\n",
       "    }\n",
       "\n",
       "    .dataframe tbody tr th {\n",
       "        vertical-align: top;\n",
       "    }\n",
       "\n",
       "    .dataframe thead th {\n",
       "        text-align: right;\n",
       "    }\n",
       "</style>\n",
       "<table border=\"1\" class=\"dataframe\">\n",
       "  <thead>\n",
       "    <tr style=\"text-align: right;\">\n",
       "      <th></th>\n",
       "      <th>ID</th>\n",
       "      <th>Day</th>\n",
       "      <th>Incidence</th>\n",
       "      <th>Brand</th>\n",
       "      <th>Quantity</th>\n",
       "      <th>Last_Inc_Brand</th>\n",
       "      <th>Last_Inc_Quantity</th>\n",
       "      <th>Price_1</th>\n",
       "      <th>Price_2</th>\n",
       "      <th>Price_3</th>\n",
       "      <th>Price_4</th>\n",
       "      <th>Price_5</th>\n",
       "      <th>Promotion_1</th>\n",
       "      <th>Promotion_2</th>\n",
       "      <th>Promotion_3</th>\n",
       "      <th>Promotion_4</th>\n",
       "      <th>Promotion_5</th>\n",
       "      <th>Sex</th>\n",
       "      <th>Marital status</th>\n",
       "      <th>Age</th>\n",
       "      <th>Education</th>\n",
       "      <th>Income</th>\n",
       "      <th>Occupation</th>\n",
       "      <th>Settlement size</th>\n",
       "      <th>Segment</th>\n",
       "    </tr>\n",
       "  </thead>\n",
       "  <tbody>\n",
       "    <tr>\n",
       "      <th>0</th>\n",
       "      <td>200000001</td>\n",
       "      <td>1</td>\n",
       "      <td>0</td>\n",
       "      <td>0</td>\n",
       "      <td>0</td>\n",
       "      <td>0</td>\n",
       "      <td>0</td>\n",
       "      <td>1.59</td>\n",
       "      <td>1.87</td>\n",
       "      <td>2.01</td>\n",
       "      <td>2.09</td>\n",
       "      <td>2.66</td>\n",
       "      <td>0</td>\n",
       "      <td>1</td>\n",
       "      <td>0</td>\n",
       "      <td>0</td>\n",
       "      <td>0</td>\n",
       "      <td>0</td>\n",
       "      <td>0</td>\n",
       "      <td>47</td>\n",
       "      <td>1</td>\n",
       "      <td>110866</td>\n",
       "      <td>1</td>\n",
       "      <td>0</td>\n",
       "      <td>1</td>\n",
       "    </tr>\n",
       "    <tr>\n",
       "      <th>1</th>\n",
       "      <td>200000001</td>\n",
       "      <td>11</td>\n",
       "      <td>0</td>\n",
       "      <td>0</td>\n",
       "      <td>0</td>\n",
       "      <td>0</td>\n",
       "      <td>0</td>\n",
       "      <td>1.51</td>\n",
       "      <td>1.89</td>\n",
       "      <td>1.99</td>\n",
       "      <td>2.09</td>\n",
       "      <td>2.66</td>\n",
       "      <td>0</td>\n",
       "      <td>0</td>\n",
       "      <td>0</td>\n",
       "      <td>0</td>\n",
       "      <td>0</td>\n",
       "      <td>0</td>\n",
       "      <td>0</td>\n",
       "      <td>47</td>\n",
       "      <td>1</td>\n",
       "      <td>110866</td>\n",
       "      <td>1</td>\n",
       "      <td>0</td>\n",
       "      <td>1</td>\n",
       "    </tr>\n",
       "    <tr>\n",
       "      <th>2</th>\n",
       "      <td>200000001</td>\n",
       "      <td>12</td>\n",
       "      <td>0</td>\n",
       "      <td>0</td>\n",
       "      <td>0</td>\n",
       "      <td>0</td>\n",
       "      <td>0</td>\n",
       "      <td>1.51</td>\n",
       "      <td>1.89</td>\n",
       "      <td>1.99</td>\n",
       "      <td>2.09</td>\n",
       "      <td>2.66</td>\n",
       "      <td>0</td>\n",
       "      <td>0</td>\n",
       "      <td>0</td>\n",
       "      <td>0</td>\n",
       "      <td>0</td>\n",
       "      <td>0</td>\n",
       "      <td>0</td>\n",
       "      <td>47</td>\n",
       "      <td>1</td>\n",
       "      <td>110866</td>\n",
       "      <td>1</td>\n",
       "      <td>0</td>\n",
       "      <td>1</td>\n",
       "    </tr>\n",
       "    <tr>\n",
       "      <th>3</th>\n",
       "      <td>200000001</td>\n",
       "      <td>16</td>\n",
       "      <td>0</td>\n",
       "      <td>0</td>\n",
       "      <td>0</td>\n",
       "      <td>0</td>\n",
       "      <td>0</td>\n",
       "      <td>1.52</td>\n",
       "      <td>1.89</td>\n",
       "      <td>1.98</td>\n",
       "      <td>2.09</td>\n",
       "      <td>2.66</td>\n",
       "      <td>0</td>\n",
       "      <td>0</td>\n",
       "      <td>0</td>\n",
       "      <td>0</td>\n",
       "      <td>0</td>\n",
       "      <td>0</td>\n",
       "      <td>0</td>\n",
       "      <td>47</td>\n",
       "      <td>1</td>\n",
       "      <td>110866</td>\n",
       "      <td>1</td>\n",
       "      <td>0</td>\n",
       "      <td>1</td>\n",
       "    </tr>\n",
       "    <tr>\n",
       "      <th>4</th>\n",
       "      <td>200000001</td>\n",
       "      <td>18</td>\n",
       "      <td>0</td>\n",
       "      <td>0</td>\n",
       "      <td>0</td>\n",
       "      <td>0</td>\n",
       "      <td>0</td>\n",
       "      <td>1.52</td>\n",
       "      <td>1.89</td>\n",
       "      <td>1.99</td>\n",
       "      <td>2.09</td>\n",
       "      <td>2.66</td>\n",
       "      <td>0</td>\n",
       "      <td>0</td>\n",
       "      <td>0</td>\n",
       "      <td>0</td>\n",
       "      <td>0</td>\n",
       "      <td>0</td>\n",
       "      <td>0</td>\n",
       "      <td>47</td>\n",
       "      <td>1</td>\n",
       "      <td>110866</td>\n",
       "      <td>1</td>\n",
       "      <td>0</td>\n",
       "      <td>1</td>\n",
       "    </tr>\n",
       "  </tbody>\n",
       "</table>\n",
       "</div>"
      ],
      "text/plain": [
       "          ID  Day  Incidence  Brand  Quantity  Last_Inc_Brand  \\\n",
       "0  200000001    1          0      0         0               0   \n",
       "1  200000001   11          0      0         0               0   \n",
       "2  200000001   12          0      0         0               0   \n",
       "3  200000001   16          0      0         0               0   \n",
       "4  200000001   18          0      0         0               0   \n",
       "\n",
       "   Last_Inc_Quantity  Price_1  Price_2  Price_3  Price_4  Price_5  \\\n",
       "0                  0     1.59     1.87     2.01     2.09     2.66   \n",
       "1                  0     1.51     1.89     1.99     2.09     2.66   \n",
       "2                  0     1.51     1.89     1.99     2.09     2.66   \n",
       "3                  0     1.52     1.89     1.98     2.09     2.66   \n",
       "4                  0     1.52     1.89     1.99     2.09     2.66   \n",
       "\n",
       "   Promotion_1  Promotion_2  Promotion_3  Promotion_4  Promotion_5  Sex  \\\n",
       "0            0            1            0            0            0    0   \n",
       "1            0            0            0            0            0    0   \n",
       "2            0            0            0            0            0    0   \n",
       "3            0            0            0            0            0    0   \n",
       "4            0            0            0            0            0    0   \n",
       "\n",
       "   Marital status  Age  Education  Income  Occupation  Settlement size  \\\n",
       "0               0   47          1  110866           1                0   \n",
       "1               0   47          1  110866           1                0   \n",
       "2               0   47          1  110866           1                0   \n",
       "3               0   47          1  110866           1                0   \n",
       "4               0   47          1  110866           1                0   \n",
       "\n",
       "   Segment  \n",
       "0        1  \n",
       "1        1  \n",
       "2        1  \n",
       "3        1  \n",
       "4        1  "
      ]
     },
     "execution_count": 20,
     "metadata": {},
     "output_type": "execute_result"
    }
   ],
   "source": [
    "# Making copy of the original dataframe\n",
    "df_purchase_predictors=df_purchase.copy()\n",
    "\n",
    "# Adding segment column to the master dataframe\n",
    "df_purchase_predictors['Segment'] = df_segm_pca_kmeans['Segment K-means PCA']\n",
    "\n",
    "\n",
    "print('This is the master dataframe with all the features')\n",
    "df_purchase_predictors.head()"
   ]
  },
  {
   "cell_type": "code",
   "execution_count": 21,
   "metadata": {},
   "outputs": [
    {
     "data": {
      "text/html": [
       "<div>\n",
       "<style scoped>\n",
       "    .dataframe tbody tr th:only-of-type {\n",
       "        vertical-align: middle;\n",
       "    }\n",
       "\n",
       "    .dataframe tbody tr th {\n",
       "        vertical-align: top;\n",
       "    }\n",
       "\n",
       "    .dataframe thead th {\n",
       "        text-align: right;\n",
       "    }\n",
       "</style>\n",
       "<table border=\"1\" class=\"dataframe\">\n",
       "  <thead>\n",
       "    <tr style=\"text-align: right;\">\n",
       "      <th></th>\n",
       "      <th>N_Visits</th>\n",
       "      <th>N_Purchases</th>\n",
       "      <th>Average_N_Purchases</th>\n",
       "      <th>Segment</th>\n",
       "    </tr>\n",
       "    <tr>\n",
       "      <th>ID</th>\n",
       "      <th></th>\n",
       "      <th></th>\n",
       "      <th></th>\n",
       "      <th></th>\n",
       "    </tr>\n",
       "  </thead>\n",
       "  <tbody>\n",
       "    <tr>\n",
       "      <th>200000001</th>\n",
       "      <td>101</td>\n",
       "      <td>9</td>\n",
       "      <td>0.089109</td>\n",
       "      <td>1</td>\n",
       "    </tr>\n",
       "    <tr>\n",
       "      <th>200000002</th>\n",
       "      <td>87</td>\n",
       "      <td>11</td>\n",
       "      <td>0.126437</td>\n",
       "      <td>3</td>\n",
       "    </tr>\n",
       "    <tr>\n",
       "      <th>200000003</th>\n",
       "      <td>97</td>\n",
       "      <td>10</td>\n",
       "      <td>0.103093</td>\n",
       "      <td>1</td>\n",
       "    </tr>\n",
       "    <tr>\n",
       "      <th>200000004</th>\n",
       "      <td>85</td>\n",
       "      <td>11</td>\n",
       "      <td>0.129412</td>\n",
       "      <td>1</td>\n",
       "    </tr>\n",
       "    <tr>\n",
       "      <th>200000005</th>\n",
       "      <td>111</td>\n",
       "      <td>13</td>\n",
       "      <td>0.117117</td>\n",
       "      <td>0</td>\n",
       "    </tr>\n",
       "  </tbody>\n",
       "</table>\n",
       "</div>"
      ],
      "text/plain": [
       "           N_Visits  N_Purchases  Average_N_Purchases  Segment\n",
       "ID                                                            \n",
       "200000001       101            9             0.089109        1\n",
       "200000002        87           11             0.126437        3\n",
       "200000003        97           10             0.103093        1\n",
       "200000004        85           11             0.129412        1\n",
       "200000005       111           13             0.117117        0"
      ]
     },
     "execution_count": 21,
     "metadata": {},
     "output_type": "execute_result"
    }
   ],
   "source": [
    "#Count of the number of times each customer came to the store\n",
    "df_purchase_descr = df_purchase_predictors[['ID','Day']].groupby(['ID']).count()  \n",
    "\n",
    "#Counts the number of purchases by each customer\n",
    "df_purchase_descr['N_Purchases'] = df_purchase_predictors.groupby('ID')['Incidence'].sum()  \n",
    "\n",
    "#renaming column name\n",
    "df_purchase_descr = df_purchase_descr.rename({'Day':'N_Visits'},axis=1)\n",
    "\n",
    "\n",
    "#Average number of purchases (conversion rate)\n",
    "df_purchase_descr['Average_N_Purchases']=df_purchase_descr['N_Purchases']/df_purchase_descr['N_Visits']\n",
    "\n",
    "#adding series - segment number that the customer belongs to\n",
    "df_purchase_descr['Segment'] = df_purchase_predictors.groupby('ID')['Segment'].mean()  \n",
    "\n",
    "\n",
    "#This is a subset of the master dataframe group by customers\n",
    "df_purchase_descr.head()"
   ]
  },
  {
   "cell_type": "markdown",
   "metadata": {},
   "source": [
    "**A2c1. Purchase Behavior**:  How often do customers from different segments visit the store?"
   ]
  },
  {
   "cell_type": "code",
   "execution_count": 22,
   "metadata": {},
   "outputs": [
    {
     "name": "stdout",
     "output_type": "stream",
     "text": [
      "Analysis:\n",
      "\n",
      "01. On average, customers from the Upper_MC Segement visit the store the most and customers from the Low Income Segment visit  the store the least.\n",
      "\n",
      "02. However, Upper_MC Segment also has the longest standard deviation from the mean - meaning datapoints are more spread apart and therefore, least homogeneous. This implies that some customers from this segment visit the store a lot whereas other customers from this same segment visit the store less often.\n",
      "\n",
      "03. Standard Deviation from other clusters are similar to each other.\n"
     ]
    },
    {
     "data": {
      "image/png": "[encoded data removed]",
      "text/plain": [
       "<Figure size 648x432 with 1 Axes>"
      ]
     },
     "metadata": {
      "needs_background": "light"
     },
     "output_type": "display_data"
    }
   ],
   "source": [
    "#How often people from different segments visit the store\n",
    "print('Analysis:\\n\\n01. On average, customers from the Upper_MC Segement visit the store the most and customers from the Low Income Segment visit  the store the least.\\n\\n02. However, Upper_MC Segment also has the longest standard deviation from the mean - meaning datapoints are more spread apart and therefore, least homogeneous. This implies that some customers from this segment visit the store a lot whereas other customers from this same segment visit the store less often.\\n\\n03. Standard Deviation from other clusters are similar to each other.')\n",
    "\n",
    "\n",
    "plt.figure(figsize=(9,6))\n",
    "\n",
    "sns.barplot('Segment','N_Visits',data=df_purchase_descr,ci='sd',palette=['b','g','r','orange']).set(xticklabels=[\"Upper_MC\",\"Low_Income\",\"Lower-MC\",\"Upper_Class\"])\n",
    "plt.xlabel('Segment')\n",
    "plt.ylabel('Number of Store Visits')\n",
    "plt.title(\"Average Number of Visits by Cluster\")\n",
    "plt.show()"
   ]
  },
  {
   "cell_type": "markdown",
   "metadata": {},
   "source": [
    "**A2c2. Purchase Behavior**: How many units of goods did customers from different segments buy from the store? "
   ]
  },
  {
   "cell_type": "code",
   "execution_count": 23,
   "metadata": {},
   "outputs": [
    {
     "name": "stdout",
     "output_type": "stream",
     "text": [
      "Analysis:\n",
      "\n",
      "01. On average, customers from the Upper_MC segment bought the most units (~40 units) and the Low Income Segment bought the least (20 units).\n",
      "\n",
      "02. However, Upper_MC Segment also has a very large standard deviation - meaning there are extreme ranges. This implies that even though this segment makes similiar amount of money, their purchasing habit is not the same.\n",
      "\n",
      "03. Low Income Segment seems to have the smallest standard deviation-implying customers in this cluster spend in a similar fashion.\n"
     ]
    },
    {
     "data": {
      "image/png": "[encoded data removed]",
      "text/plain": [
       "<Figure size 648x432 with 1 Axes>"
      ]
     },
     "metadata": {
      "needs_background": "light"
     },
     "output_type": "display_data"
    }
   ],
   "source": [
    "#How often people from different segments buy the product of interest (chocolate bar)\n",
    "\n",
    "print('Analysis:\\n\\n01. On average, customers from the Upper_MC segment bought the most units (~40 units) and the Low Income Segment bought the least (20 units).\\n\\n02. However, Upper_MC Segment also has a very large standard deviation - meaning there are extreme ranges. This implies that even though this segment makes similiar amount of money, their purchasing habit is not the same.\\n\\n03. Low Income Segment seems to have the smallest standard deviation-implying customers in this cluster spend in a similar fashion.')\n",
    "\n",
    "\n",
    "\n",
    "plt.figure(figsize=(9,6))\n",
    "\n",
    "sns.barplot('Segment','N_Purchases',data=df_purchase_descr,ci='sd',palette=['b','g','r','orange']).set(xticklabels=[\"Upper_MC\",\"Low_Income\",\"Lower-MC\",\"Upper_Class\"])\n",
    "plt.xlabel('Segment')\n",
    "plt.ylabel('Number of Purchases')\n",
    "plt.title(\"Average Number of Purchases by Cluster\")\n",
    "plt.show()"
   ]
  },
  {
   "cell_type": "markdown",
   "metadata": {},
   "source": [
    "**A2c3. Purchase Behavior**: What is the average conversion rate by segment? "
   ]
  },
  {
   "cell_type": "code",
   "execution_count": 24,
   "metadata": {},
   "outputs": [
    {
     "name": "stdout",
     "output_type": "stream",
     "text": [
      "Analysis:\n",
      "\n",
      "01. On average, conversion rate for the Upper Class and the Upper_MC Segments are similiar whereas conversion rate for the Low_Income and Lower_MC segments seem to be similar as well.\n",
      "\n",
      "02. Also, the standard deviation for the Upper_MC and Upper_Class segments are the longest implying extreme spending habits within cluster (Some customers within the same Upper_MC and Upper_Class Segments have a very high conversion rate whereas other customers within the same segment have a very low conversion rate.)\n",
      "\n",
      "03. Customers from the Low_Income and Lower_MC Segments also have similar conversion rates.\n"
     ]
    },
    {
     "data": {
      "image/png": "[encoded data removed]",
      "text/plain": [
       "<Figure size 648x432 with 1 Axes>"
      ]
     },
     "metadata": {
      "needs_background": "light"
     },
     "output_type": "display_data"
    }
   ],
   "source": [
    "#How often people from different segments buy the product of interest?\n",
    "\n",
    "print('Analysis:\\n\\n01. On average, conversion rate for the Upper Class and the Upper_MC Segments are similiar whereas conversion rate for the Low_Income and Lower_MC segments seem to be similar as well.\\n\\n02. Also, the standard deviation for the Upper_MC and Upper_Class segments are the longest implying extreme spending habits within cluster (Some customers within the same Upper_MC and Upper_Class Segments have a very high conversion rate whereas other customers within the same segment have a very low conversion rate.)\\n\\n03. Customers from the Low_Income and Lower_MC Segments also have similar conversion rates.')\n",
    "\n",
    "\n",
    "\n",
    "plt.figure(figsize=(9,6))\n",
    "\n",
    "sns.barplot('Segment','Average_N_Purchases',data=df_purchase_descr,ci='sd',palette=['b','g','r','orange']).set(xticklabels=[\"Upper_MC\",\"Low_Income\",\"Lower-MC\",\"Upper_Class\"])\n",
    "plt.xlabel('Segment')\n",
    "plt.ylabel('Conversion Rate')\n",
    "plt.title(\"Conversion Rate by Cluster\")\n",
    "plt.show()"
   ]
  },
  {
   "cell_type": "markdown",
   "metadata": {},
   "source": [
    "**A2c4. Purchase Behavior**: What is the Brand Choice by segment? "
   ]
  },
  {
   "cell_type": "code",
   "execution_count": 25,
   "metadata": {},
   "outputs": [
    {
     "data": {
      "text/html": [
       "<div>\n",
       "<style scoped>\n",
       "    .dataframe tbody tr th:only-of-type {\n",
       "        vertical-align: middle;\n",
       "    }\n",
       "\n",
       "    .dataframe tbody tr th {\n",
       "        vertical-align: top;\n",
       "    }\n",
       "\n",
       "    .dataframe thead th {\n",
       "        text-align: right;\n",
       "    }\n",
       "</style>\n",
       "<table border=\"1\" class=\"dataframe\">\n",
       "  <thead>\n",
       "    <tr style=\"text-align: right;\">\n",
       "      <th></th>\n",
       "      <th>ID</th>\n",
       "      <th>Segment</th>\n",
       "      <th>Brand_1</th>\n",
       "      <th>Brand_2</th>\n",
       "      <th>Brand_3</th>\n",
       "      <th>Brand_4</th>\n",
       "      <th>Brand_5</th>\n",
       "    </tr>\n",
       "  </thead>\n",
       "  <tbody>\n",
       "    <tr>\n",
       "      <th>6</th>\n",
       "      <td>200000001</td>\n",
       "      <td>1</td>\n",
       "      <td>0</td>\n",
       "      <td>1</td>\n",
       "      <td>0</td>\n",
       "      <td>0</td>\n",
       "      <td>0</td>\n",
       "    </tr>\n",
       "    <tr>\n",
       "      <th>11</th>\n",
       "      <td>200000001</td>\n",
       "      <td>1</td>\n",
       "      <td>0</td>\n",
       "      <td>0</td>\n",
       "      <td>0</td>\n",
       "      <td>0</td>\n",
       "      <td>1</td>\n",
       "    </tr>\n",
       "    <tr>\n",
       "      <th>19</th>\n",
       "      <td>200000001</td>\n",
       "      <td>1</td>\n",
       "      <td>1</td>\n",
       "      <td>0</td>\n",
       "      <td>0</td>\n",
       "      <td>0</td>\n",
       "      <td>0</td>\n",
       "    </tr>\n",
       "    <tr>\n",
       "      <th>24</th>\n",
       "      <td>200000001</td>\n",
       "      <td>1</td>\n",
       "      <td>0</td>\n",
       "      <td>0</td>\n",
       "      <td>0</td>\n",
       "      <td>1</td>\n",
       "      <td>0</td>\n",
       "    </tr>\n",
       "    <tr>\n",
       "      <th>29</th>\n",
       "      <td>200000001</td>\n",
       "      <td>1</td>\n",
       "      <td>0</td>\n",
       "      <td>1</td>\n",
       "      <td>0</td>\n",
       "      <td>0</td>\n",
       "      <td>0</td>\n",
       "    </tr>\n",
       "  </tbody>\n",
       "</table>\n",
       "</div>"
      ],
      "text/plain": [
       "           ID  Segment  Brand_1  Brand_2  Brand_3  Brand_4  Brand_5\n",
       "6   200000001        1        0        1        0        0        0\n",
       "11  200000001        1        0        0        0        0        1\n",
       "19  200000001        1        1        0        0        0        0\n",
       "24  200000001        1        0        0        0        1        0\n",
       "29  200000001        1        0        1        0        0        0"
      ]
     },
     "execution_count": 25,
     "metadata": {},
     "output_type": "execute_result"
    }
   ],
   "source": [
    "#Filter the dataframe down to only instances when the customer bought the goods and then groupby customer and then Segment\n",
    "\n",
    "#filtering the dataframe to visits resulting in purchases and selecting relevant features\n",
    "df_purchase_incidence=df_purchase_predictors[df_purchase_predictors['Incidence']==1][['ID','Segment','Brand']]\n",
    "\n",
    "#one-hot coding of the categorical feature\n",
    "brand_dummies = pd.get_dummies(df_purchase_incidence,columns=['Brand'],prefix='Brand',prefix_sep='_')\n",
    "\n",
    "brand_dummies.head()"
   ]
  },
  {
   "cell_type": "code",
   "execution_count": 26,
   "metadata": {},
   "outputs": [
    {
     "data": {
      "text/html": [
       "<div>\n",
       "<style scoped>\n",
       "    .dataframe tbody tr th:only-of-type {\n",
       "        vertical-align: middle;\n",
       "    }\n",
       "\n",
       "    .dataframe tbody tr th {\n",
       "        vertical-align: top;\n",
       "    }\n",
       "\n",
       "    .dataframe thead th {\n",
       "        text-align: right;\n",
       "    }\n",
       "</style>\n",
       "<table border=\"1\" class=\"dataframe\">\n",
       "  <thead>\n",
       "    <tr style=\"text-align: right;\">\n",
       "      <th></th>\n",
       "      <th>Brand_1</th>\n",
       "      <th>Brand_2</th>\n",
       "      <th>Brand_3</th>\n",
       "      <th>Brand_4</th>\n",
       "      <th>Brand_5</th>\n",
       "    </tr>\n",
       "    <tr>\n",
       "      <th>Segment</th>\n",
       "      <th></th>\n",
       "      <th></th>\n",
       "      <th></th>\n",
       "      <th></th>\n",
       "      <th></th>\n",
       "    </tr>\n",
       "  </thead>\n",
       "  <tbody>\n",
       "    <tr>\n",
       "      <th>Upper_MC</th>\n",
       "      <td>0.075322</td>\n",
       "      <td>0.125566</td>\n",
       "      <td>0.034683</td>\n",
       "      <td>0.119305</td>\n",
       "      <td>0.645125</td>\n",
       "    </tr>\n",
       "    <tr>\n",
       "      <th>Low_Income</th>\n",
       "      <td>0.134667</td>\n",
       "      <td>0.665459</td>\n",
       "      <td>0.020281</td>\n",
       "      <td>0.074932</td>\n",
       "      <td>0.104662</td>\n",
       "    </tr>\n",
       "    <tr>\n",
       "      <th>Lower-MC</th>\n",
       "      <td>0.233076</td>\n",
       "      <td>0.407917</td>\n",
       "      <td>0.150026</td>\n",
       "      <td>0.072802</td>\n",
       "      <td>0.136178</td>\n",
       "    </tr>\n",
       "    <tr>\n",
       "      <th>Upper_Class</th>\n",
       "      <td>0.041831</td>\n",
       "      <td>0.119129</td>\n",
       "      <td>0.030329</td>\n",
       "      <td>0.601730</td>\n",
       "      <td>0.206980</td>\n",
       "    </tr>\n",
       "  </tbody>\n",
       "</table>\n",
       "</div>"
      ],
      "text/plain": [
       "              Brand_1   Brand_2   Brand_3   Brand_4   Brand_5\n",
       "Segment                                                      \n",
       "Upper_MC     0.075322  0.125566  0.034683  0.119305  0.645125\n",
       "Low_Income   0.134667  0.665459  0.020281  0.074932  0.104662\n",
       "Lower-MC     0.233076  0.407917  0.150026  0.072802  0.136178\n",
       "Upper_Class  0.041831  0.119129  0.030329  0.601730  0.206980"
      ]
     },
     "execution_count": 26,
     "metadata": {},
     "output_type": "execute_result"
    }
   ],
   "source": [
    "#groupby customer\n",
    "temp=brand_dummies.groupby('ID').mean()\n",
    "\n",
    "#groupby segment with mean\n",
    "mean_brand_choice=temp.groupby('Segment').mean()\n",
    "\n",
    "mean_brand_choice=mean_brand_choice.rename({0:'Upper_MC',1:'Low_Income',2:'Lower-MC',3:'Upper_Class'},axis=0)\n",
    "\n",
    "mean_brand_choice.head()"
   ]
  },
  {
   "cell_type": "code",
   "execution_count": 27,
   "metadata": {},
   "outputs": [
    {
     "name": "stdout",
     "output_type": "stream",
     "text": [
      "Analysis: \n",
      "\n",
      "01.Note Brand Names are in order of from Least Expensive (Brand_1) to Most Expense (Brand_5).\n",
      "\n",
      "02. As expected, customers from Upper_Class and Upper_MC segments tend to like expensive brands BUT customers from Low_Income segment prefer not the cheapest but the 2nd cheapest brand.\n",
      "\n",
      "03. Customers from Lower_MC have a slight preference of Brand2 but they are mostly spreadout.\n"
     ]
    },
    {
     "data": {
      "image/png": "[encoded data removed]",
      "text/plain": [
       "<Figure size 648x432 with 2 Axes>"
      ]
     },
     "metadata": {
      "needs_background": "light"
     },
     "output_type": "display_data"
    }
   ],
   "source": [
    "plt.figure(figsize=(9,6))\n",
    "\n",
    "sns.heatmap(mean_brand_choice, vmin=0, vmax=1, cmap='PuBu',annot=True)\n",
    "\n",
    "print('Analysis: \\n\\n01.Note Brand Names are in order of from Least Expensive (Brand_1) to Most Expense (Brand_5).\\n\\n02. As expected, customers from Upper_Class and Upper_MC segments tend to like expensive brands BUT customers from Low_Income segment prefer not the cheapest but the 2nd cheapest brand.\\n\\n03. Customers from Lower_MC have a slight preference of Brand2 but they are mostly spreadout.')\n",
    "\n",
    "plt.title('Average Brand Choice by Segment')\n",
    "plt.show()"
   ]
  },
  {
   "cell_type": "markdown",
   "metadata": {},
   "source": [
    "**A2c5. Purchase Behavior**: What is the revenue earned by segment? "
   ]
  },
  {
   "cell_type": "code",
   "execution_count": 28,
   "metadata": {},
   "outputs": [],
   "source": [
    "#filtering the dataframe to only those transactions where the most expensive brand was purchased\n",
    "temp=df_purchase_predictors[df_purchase_predictors['Brand']==1]\n",
    "\n",
    "#calculating revenue of the highest brand (Price 1)\n",
    "temp['Revenue Brand 1']=temp['Price_1'] * temp['Quantity']\n",
    "\n",
    "#different dataframe for these 2 columns\n",
    "segments_brand_revenue=temp[['Segment','Revenue Brand 1']].groupby('Segment').sum()\n",
    "\n",
    "#segments_brand_revenue"
   ]
  },
  {
   "cell_type": "code",
   "execution_count": 29,
   "metadata": {},
   "outputs": [],
   "source": [
    "#filtering the dataframe to only those transactions where the most expensive brand was purchased\n",
    "temp=df_purchase_predictors[df_purchase_predictors['Brand']==1]\n",
    "\n",
    "#calculating revenue (Price 2)\n",
    "temp['Revenue Brand 2']=temp['Price_2'] * temp['Quantity']\n",
    "\n",
    "#different dataframe for these 2 columns\n",
    "segments_brand_revenue['Revenue Brand 2']=temp[['Segment','Revenue Brand 2']].groupby('Segment').sum()\n",
    "\n",
    "#segments_brand_revenue"
   ]
  },
  {
   "cell_type": "code",
   "execution_count": 30,
   "metadata": {},
   "outputs": [],
   "source": [
    "#filtering the dataframe to only those transactions where the most expensive brand was purchased\n",
    "temp=df_purchase_predictors[df_purchase_predictors['Brand']==1]\n",
    "\n",
    "#calculating revenue (Price 3)\n",
    "temp['Revenue Brand 3']=temp['Price_3'] * temp['Quantity']\n",
    "\n",
    "#different dataframe for these 2 columns\n",
    "segments_brand_revenue['Revenue Brand 3']=temp[['Segment','Revenue Brand 3']].groupby('Segment').sum()\n",
    "\n",
    "#segments_brand_revenue"
   ]
  },
  {
   "cell_type": "code",
   "execution_count": 31,
   "metadata": {},
   "outputs": [],
   "source": [
    "#filtering the dataframe to only those transactions where the most expensive brand was purchased\n",
    "temp=df_purchase_predictors[df_purchase_predictors['Brand']==1]\n",
    "\n",
    "#calculating revenue (Price 4)\n",
    "temp['Revenue Brand 4']=temp['Price_4'] * temp['Quantity']\n",
    "\n",
    "#different dataframe for these 2 columns\n",
    "segments_brand_revenue['Revenue Brand 4']=temp[['Segment','Revenue Brand 4']].groupby('Segment').sum()\n",
    "\n",
    "#segments_brand_revenue"
   ]
  },
  {
   "cell_type": "code",
   "execution_count": 32,
   "metadata": {},
   "outputs": [],
   "source": [
    "#filtering the dataframe to only those transactions where the most expensive brand was purchased\n",
    "temp=df_purchase_predictors[df_purchase_predictors['Brand']==1]\n",
    "\n",
    "#calculating revenue (Price 5)\n",
    "temp['Revenue Brand 5']=temp['Price_5'] * temp['Quantity']\n",
    "\n",
    "#different dataframe for these 2 columns\n",
    "segments_brand_revenue['Revenue Brand 5']=temp[['Segment','Revenue Brand 5']].groupby('Segment').sum()\n",
    "\n",
    "#segments_brand_revenue"
   ]
  },
  {
   "cell_type": "code",
   "execution_count": 33,
   "metadata": {},
   "outputs": [
    {
     "name": "stdout",
     "output_type": "stream",
     "text": [
      "Analysis:\n",
      "\n",
      "01. Note based on the pie chart from earlier, Lower_MC segment makes up only 23% of the total customer base but per table below, brings in ~42% of total revenue.\n",
      "\n",
      "02. Similarly, Upper_MC and Upper_Class segments make up ~39% of the customer base but bring in ~22% of total revenue.\n",
      "\n",
      "03.In terms of brand preferability, even though Upper_Class and Upper_MC prefer high-end goods (refer to the heatmap above), most of the revenue is derived from Low_Income and Lower_MC segments.\n"
     ]
    },
    {
     "data": {
      "text/html": [
       "<div>\n",
       "<style scoped>\n",
       "    .dataframe tbody tr th:only-of-type {\n",
       "        vertical-align: middle;\n",
       "    }\n",
       "\n",
       "    .dataframe tbody tr th {\n",
       "        vertical-align: top;\n",
       "    }\n",
       "\n",
       "    .dataframe thead th {\n",
       "        text-align: right;\n",
       "    }\n",
       "</style>\n",
       "<table border=\"1\" class=\"dataframe\">\n",
       "  <thead>\n",
       "    <tr style=\"text-align: right;\">\n",
       "      <th></th>\n",
       "      <th>Revenue Brand 1</th>\n",
       "      <th>Revenue Brand 2</th>\n",
       "      <th>Revenue Brand 3</th>\n",
       "      <th>Revenue Brand 4</th>\n",
       "      <th>Revenue Brand 5</th>\n",
       "      <th>Total</th>\n",
       "      <th>Segment_Proportion</th>\n",
       "    </tr>\n",
       "  </thead>\n",
       "  <tbody>\n",
       "    <tr>\n",
       "      <th>Upper_MC</th>\n",
       "      <td>707.95</td>\n",
       "      <td>929.61</td>\n",
       "      <td>1053.85</td>\n",
       "      <td>1131.82</td>\n",
       "      <td>1388.76</td>\n",
       "      <td>5211.99</td>\n",
       "      <td>0.110752</td>\n",
       "    </tr>\n",
       "    <tr>\n",
       "      <th>Low_Income</th>\n",
       "      <td>2240.59</td>\n",
       "      <td>3026.23</td>\n",
       "      <td>3404.06</td>\n",
       "      <td>3684.01</td>\n",
       "      <td>4491.31</td>\n",
       "      <td>16846.20</td>\n",
       "      <td>0.357971</td>\n",
       "    </tr>\n",
       "    <tr>\n",
       "      <th>Lower_MC</th>\n",
       "      <td>2671.54</td>\n",
       "      <td>3604.70</td>\n",
       "      <td>4015.73</td>\n",
       "      <td>4330.05</td>\n",
       "      <td>5280.55</td>\n",
       "      <td>19902.57</td>\n",
       "      <td>0.422917</td>\n",
       "    </tr>\n",
       "    <tr>\n",
       "      <th>Upper_Class</th>\n",
       "      <td>685.57</td>\n",
       "      <td>873.43</td>\n",
       "      <td>1041.69</td>\n",
       "      <td>1135.06</td>\n",
       "      <td>1363.67</td>\n",
       "      <td>5099.42</td>\n",
       "      <td>0.108360</td>\n",
       "    </tr>\n",
       "    <tr>\n",
       "      <th>Total</th>\n",
       "      <td>6305.65</td>\n",
       "      <td>8433.97</td>\n",
       "      <td>9515.33</td>\n",
       "      <td>10280.94</td>\n",
       "      <td>12524.29</td>\n",
       "      <td>47060.18</td>\n",
       "      <td>1.000000</td>\n",
       "    </tr>\n",
       "  </tbody>\n",
       "</table>\n",
       "</div>"
      ],
      "text/plain": [
       "             Revenue Brand 1  Revenue Brand 2  Revenue Brand 3  \\\n",
       "Upper_MC              707.95           929.61          1053.85   \n",
       "Low_Income           2240.59          3026.23          3404.06   \n",
       "Lower_MC             2671.54          3604.70          4015.73   \n",
       "Upper_Class           685.57           873.43          1041.69   \n",
       "Total                6305.65          8433.97          9515.33   \n",
       "\n",
       "             Revenue Brand 4  Revenue Brand 5     Total  Segment_Proportion  \n",
       "Upper_MC             1131.82          1388.76   5211.99            0.110752  \n",
       "Low_Income           3684.01          4491.31  16846.20            0.357971  \n",
       "Lower_MC             4330.05          5280.55  19902.57            0.422917  \n",
       "Upper_Class          1135.06          1363.67   5099.42            0.108360  \n",
       "Total               10280.94         12524.29  47060.18            1.000000  "
      ]
     },
     "execution_count": 33,
     "metadata": {},
     "output_type": "execute_result"
    }
   ],
   "source": [
    "segments_brand_revenue['Total']=segments_brand_revenue['Revenue Brand 1']+segments_brand_revenue['Revenue Brand 2']+segments_brand_revenue['Revenue Brand 3']+segments_brand_revenue['Revenue Brand 4']+segments_brand_revenue['Revenue Brand 5']\n",
    "\n",
    "segments_brand_revenue['Segment_Proportion']=segments_brand_revenue['Total']/segments_brand_revenue['Total'].sum()\n",
    "\n",
    "segments_brand_revenue = segments_brand_revenue.append(segments_brand_revenue.sum(numeric_only=True), ignore_index=True).rename(index={0:'Upper_MC',1:'Low_Income',2:'Lower_MC',3:'Upper_Class',4:'Total'})\n",
    "\n",
    "\n",
    "print('Analysis:\\n\\n01. Note based on the pie chart from earlier, Lower_MC segment makes up only 23% of the total customer base but per table below, brings in ~42% of total revenue.\\n\\n02. Similarly, Upper_MC and Upper_Class segments make up ~39% of the customer base but bring in ~22% of total revenue.\\n\\n03.In terms of brand preferability, even though Upper_Class and Upper_MC prefer high-end goods (refer to the heatmap above), most of the revenue is derived from Low_Income and Lower_MC segments.')\n",
    "\n",
    "segments_brand_revenue"
   ]
  },
  {
   "cell_type": "markdown",
   "metadata": {},
   "source": [
    "## B. POSITIONING - PRICE ELASTICITY"
   ]
  },
  {
   "cell_type": "markdown",
   "metadata": {},
   "source": [
    "### B1. Defining Price Elasticity/Purchase Probability\n",
    "    - Price Elasticity = % change in purchase probability in response to a 1% change in price\n",
    "    - We analyze price elasticity based on a range of prices (from the lowest price point to the highest price point)"
   ]
  },
  {
   "cell_type": "code",
   "execution_count": 34,
   "metadata": {},
   "outputs": [
    {
     "name": "stdout",
     "output_type": "stream",
     "text": [
      "Price Elasticity formula:\n",
      "\n",
      " E = Coef * price * (1-Pr(purchase))\n"
     ]
    },
    {
     "data": {
      "image/jpeg": "[encoded data removed]",
      "text/plain": [
       "<IPython.core.display.Image object>"
      ]
     },
     "execution_count": 34,
     "metadata": {},
     "output_type": "execute_result"
    }
   ],
   "source": [
    "#making a copy of the master dataframe\n",
    "df_pa=df_purchase_predictors.copy()\n",
    "\n",
    "print(\"Price Elasticity formula:\\n\\n E = Coef * price * (1-Pr(purchase))\")\n",
    "\n",
    "Price_Elasticity=Image(r'https://raw.githubusercontent.com/asrarahmed01/Datasets/master/17.%20Price_Elasticity.JPG')\n",
    "Price_Elasticity"
   ]
  },
  {
   "cell_type": "markdown",
   "metadata": {},
   "source": [
    "### B2. Price Range \n",
    "- used to calculate price elasticity"
   ]
  },
  {
   "cell_type": "code",
   "execution_count": 35,
   "metadata": {},
   "outputs": [
    {
     "name": "stdout",
     "output_type": "stream",
     "text": [
      "\n",
      "Prices for all the brands range from $1.1 to $2.8 so this is what we are going to use for elasticity purposes.\n"
     ]
    },
    {
     "data": {
      "text/html": [
       "<div>\n",
       "<style scoped>\n",
       "    .dataframe tbody tr th:only-of-type {\n",
       "        vertical-align: middle;\n",
       "    }\n",
       "\n",
       "    .dataframe tbody tr th {\n",
       "        vertical-align: top;\n",
       "    }\n",
       "\n",
       "    .dataframe thead th {\n",
       "        text-align: right;\n",
       "    }\n",
       "</style>\n",
       "<table border=\"1\" class=\"dataframe\">\n",
       "  <thead>\n",
       "    <tr style=\"text-align: right;\">\n",
       "      <th></th>\n",
       "      <th>Price_Range</th>\n",
       "    </tr>\n",
       "  </thead>\n",
       "  <tbody>\n",
       "    <tr>\n",
       "      <th>0</th>\n",
       "      <td>1.10</td>\n",
       "    </tr>\n",
       "    <tr>\n",
       "      <th>1</th>\n",
       "      <td>1.15</td>\n",
       "    </tr>\n",
       "    <tr>\n",
       "      <th>2</th>\n",
       "      <td>1.20</td>\n",
       "    </tr>\n",
       "    <tr>\n",
       "      <th>3</th>\n",
       "      <td>1.25</td>\n",
       "    </tr>\n",
       "    <tr>\n",
       "      <th>4</th>\n",
       "      <td>1.30</td>\n",
       "    </tr>\n",
       "  </tbody>\n",
       "</table>\n",
       "</div>"
      ],
      "text/plain": [
       "   Price_Range\n",
       "0         1.10\n",
       "1         1.15\n",
       "2         1.20\n",
       "3         1.25\n",
       "4         1.30"
      ]
     },
     "execution_count": 35,
     "metadata": {},
     "output_type": "execute_result"
    }
   ],
   "source": [
    "#Saving price ceiling and floor to a variable. Price elasticity will calculated for each price point at an interval of .05 between these 2 prices.\n",
    "\n",
    "min_price=df_pa[[\"Price_1\",\"Price_2\",\"Price_3\",\"Price_4\",\"Price_5\"]].describe().loc[[\"min\",\"max\"],:].min().min()\n",
    "\n",
    "max_price=df_pa[[\"Price_1\",\"Price_2\",\"Price_3\",\"Price_4\",\"Price_5\"]].describe().loc[[\"min\",\"max\"],:].max().max()\n",
    "\n",
    "#setting up price range from the lowest to the highest in intervals of $.05\n",
    "price_range=np.arange(min_price,max_price,.05)\n",
    "\n",
    "#converting each price to a list to feed to the model\n",
    "price_range_=[[price] for price in price_range] #you can either make a list out of each element or put the list in a dataframe (but in any case, the model can only take inputs in a list)\n",
    "\n",
    "print(f'\\nPrices for all the brands range from ${min_price} to ${max_price} so this is what we are going to use for elasticity purposes.')\n",
    "\n",
    "#dataframe of price ranges\n",
    "df_price_elasticities=pd.DataFrame(price_range, columns=['Price_Range'])\n",
    "\n",
    "df_price_elasticities.head()"
   ]
  },
  {
   "cell_type": "markdown",
   "metadata": {},
   "source": [
    "### B3. Price Elasticity"
   ]
  },
  {
   "cell_type": "markdown",
   "metadata": {},
   "source": [
    "$\\color{blue}{\\text{B3a. Price Elasticity of the Overall Market}}$\n",
    "- How likely are customers to buy the goods given a varying price range?"
   ]
  },
  {
   "cell_type": "code",
   "execution_count": 36,
   "metadata": {},
   "outputs": [],
   "source": [
    "#Designating Inputs and Outputs\n",
    "\n",
    "#Average price for each brand as input\n",
    "X = pd.DataFrame()\n",
    "X['Mean_Price']=df_pa[['Price_1','Price_2','Price_3','Price_4','Price_5']].mean(axis=1)\n",
    "\n",
    "# We want to predict whether the customer bought or not so df_pa['incidence']\n",
    "Y=df_pa['Incidence']"
   ]
  },
  {
   "cell_type": "code",
   "execution_count": 37,
   "metadata": {},
   "outputs": [
    {
     "data": {
      "text/plain": [
       "array([[-2.34801177]])"
      ]
     },
     "execution_count": 37,
     "metadata": {},
     "output_type": "execute_result"
    }
   ],
   "source": [
    "#Model Preparation\n",
    "\n",
    "#initiating a class\n",
    "model_purchase=LogisticRegression(solver='sag',random_state=42) \n",
    "\n",
    "#fitting the data\n",
    "model_purchase.fit(X,Y)\n",
    "\n",
    "#For a change of one unit in the input(Price), output(Purchase) is going to go down by 2.35% \n",
    "model_purchase.coef_   "
   ]
  },
  {
   "cell_type": "code",
   "execution_count": 38,
   "metadata": {},
   "outputs": [
    {
     "name": "stdout",
     "output_type": "stream",
     "text": [
      "This predicts the probability of the different classes of logistic regression (0 or 1). The columns reflect the probabilties of 0 and 1, respectively.Below is the first 5 probabilities: \n",
      "\n",
      "[[0.26796897 0.73203103]\n",
      " [0.29161545 0.70838455]\n",
      " [0.31644654 0.68355346]\n",
      " [0.34237011 0.65762989]\n",
      " [0.3692701  0.6307299 ]]\n",
      "\n",
      " Since we are only interested in '1's (Purchase Incidence), we can just get the 2nd column\n"
     ]
    }
   ],
   "source": [
    "#feed the price range into the model to predict purchase probabilities (similiar to predict method)\n",
    "Y_pr=model_purchase.predict_proba(price_range_)  \n",
    "\n",
    "print(f'This predicts the probability of the different classes of logistic regression (0 or 1). The columns reflect the probabilties of 0 and 1, respectively.Below is the first 5 probabilities: \\n\\n{Y_pr[:5]}\\n\\n Since we are only interested in \\'1\\'s (Purchase Incidence), we can just get the 2nd column')\n",
    "\n",
    "#Purchase probability of the product of interest as a whole (saving only the second column)\n",
    "purchase_pr = Y_pr[:,1] "
   ]
  },
  {
   "cell_type": "code",
   "execution_count": 39,
   "metadata": {},
   "outputs": [
    {
     "data": {
      "text/html": [
       "<div>\n",
       "<style scoped>\n",
       "    .dataframe tbody tr th:only-of-type {\n",
       "        vertical-align: middle;\n",
       "    }\n",
       "\n",
       "    .dataframe tbody tr th {\n",
       "        vertical-align: top;\n",
       "    }\n",
       "\n",
       "    .dataframe thead th {\n",
       "        text-align: right;\n",
       "    }\n",
       "</style>\n",
       "<table border=\"1\" class=\"dataframe\">\n",
       "  <thead>\n",
       "    <tr style=\"text-align: right;\">\n",
       "      <th></th>\n",
       "      <th>Price_Range</th>\n",
       "      <th>Mean_PE</th>\n",
       "    </tr>\n",
       "  </thead>\n",
       "  <tbody>\n",
       "    <tr>\n",
       "      <th>0</th>\n",
       "      <td>1.10</td>\n",
       "      <td>-0.692114</td>\n",
       "    </tr>\n",
       "    <tr>\n",
       "      <th>1</th>\n",
       "      <td>1.15</td>\n",
       "      <td>-0.787424</td>\n",
       "    </tr>\n",
       "    <tr>\n",
       "      <th>2</th>\n",
       "      <td>1.20</td>\n",
       "      <td>-0.891624</td>\n",
       "    </tr>\n",
       "    <tr>\n",
       "      <th>3</th>\n",
       "      <td>1.25</td>\n",
       "      <td>-1.004861</td>\n",
       "    </tr>\n",
       "    <tr>\n",
       "      <th>4</th>\n",
       "      <td>1.30</td>\n",
       "      <td>-1.127166</td>\n",
       "    </tr>\n",
       "  </tbody>\n",
       "</table>\n",
       "</div>"
      ],
      "text/plain": [
       "   Price_Range   Mean_PE\n",
       "0         1.10 -0.692114\n",
       "1         1.15 -0.787424\n",
       "2         1.20 -0.891624\n",
       "3         1.25 -1.004861\n",
       "4         1.30 -1.127166"
      ]
     },
     "execution_count": 39,
     "metadata": {},
     "output_type": "execute_result"
    }
   ],
   "source": [
    "#price elasticity (Probability of NOT buying * Price * Coeff_)\n",
    "df_price_elasticities['Mean_PE'] = model_purchase.coef_[:,0] * price_range * (1 - purchase_pr)  \n",
    "\n",
    "\n",
    "df_price_elasticities.head()"
   ]
  },
  {
   "cell_type": "code",
   "execution_count": 40,
   "metadata": {},
   "outputs": [
    {
     "name": "stdout",
     "output_type": "stream",
     "text": [
      "Analysis:\n",
      "1. As prices go up, Elasticity decreases.\n",
      "At a price point of $1.10, an increase in price by 1% will result in a decrease in purchase probability of .69%. Since a 1% reduction in price would result in less than 1% reduction in demand, this price point is deemed to be INELASTIC. However,at a price point of $1.50, an increase in price by 1% will result in a decrease in purchase probability of 1.7%. Since a 1% reduction in price would result in less than 1% reduction in demand, this price point is deemed to be INELASTIC.\n",
      "\n",
      "2. Elasticity is definited as when the absolute value of pe(Purchase Elasticity) is MORE than 1. Hence, referring to the dataframe above and reinforced by the plot below, our product changes from 'INELASTIC' to 'ELASTIC' at a price point of $1.25 as this is where the pe exceeds 1.\n",
      "\n",
      "3. Note from a price point of 1.10 to 1.25, line is not as steep (INELASTIC) but after 1.25, the line is very steep (ELASTIC). \n",
      "\n",
      "4. Overall Market Strategy from this plot would be that for price points below 1.25, we can increase the price a bit without losing much demand and for prices above 1.25, we can increase demand by cutting price a little bit.\n"
     ]
    },
    {
     "data": {
      "image/png": "[encoded data removed]",
      "text/plain": [
       "<Figure size 648x432 with 1 Axes>"
      ]
     },
     "metadata": {
      "needs_background": "light"
     },
     "output_type": "display_data"
    }
   ],
   "source": [
    "print('Analysis:\\n1. As prices go up, Elasticity decreases.\\nAt a price point of $1.10, an increase in price by 1% will result in a decrease in purchase probability of .69%. Since a 1% reduction in price would result in less than 1% reduction in demand, this price point is deemed to be INELASTIC. However,at a price point of $1.50, an increase in price by 1% will result in a decrease in purchase probability of 1.7%. Since a 1% reduction in price would result in less than 1% reduction in demand, this price point is deemed to be INELASTIC.\\n\\n2. Elasticity is definited as when the absolute value of pe(Purchase Elasticity) is MORE than 1. Hence, referring to the dataframe above and reinforced by the plot below, our product changes from \\'INELASTIC\\' to \\'ELASTIC\\' at a price point of $1.25 as this is where the pe exceeds 1.\\n\\n3. Note from a price point of 1.10 to 1.25, line is not as steep (INELASTIC) but after 1.25, the line is very steep (ELASTIC). \\n\\n4. Overall Market Strategy from this plot would be that for price points below 1.25, we can increase the price a bit without losing much demand and for prices above 1.25, we can increase demand by cutting price a little bit.')\n",
    "\n",
    "plt.figure(figsize=(9,6))\n",
    "plt.plot(price_range, df_price_elasticities['Mean_PE'], color = 'grey')\n",
    "plt.xlabel('Price')\n",
    "plt.ylabel('Elasticity')\n",
    "plt.title('Price Elasticity of Purchase Probability')\n",
    "\n",
    "plt.show()"
   ]
  },
  {
   "cell_type": "markdown",
   "metadata": {},
   "source": [
    "### B4. Price Elasticity By Segment\n",
    "- How likely are customers from different segments to buy our product given a varying price range?"
   ]
  },
  {
   "cell_type": "markdown",
   "metadata": {},
   "source": [
    "$\\color{blue}{\\text{B4a. Upper_Middle_Class (Segment 0)}}$"
   ]
  },
  {
   "cell_type": "code",
   "execution_count": 41,
   "metadata": {},
   "outputs": [],
   "source": [
    "#filter down the dataframe to Segment 0\n",
    "df_pa_segment_Upper_MC = df_pa[df_pa['Segment'] == 0]\n",
    "#________________________________________________________________________________________________________________\n",
    "\n",
    "#Designating Inputs and Outputs\n",
    "\n",
    "#Average price for each brand as input\n",
    "X = pd.DataFrame()\n",
    "X['Mean_Price']=df_pa_segment_Upper_MC[['Price_1','Price_2','Price_3','Price_4','Price_5']].mean(axis=1)\n",
    "\n",
    "# We want to predict whether the customer bought or not so df_pa['incidence']\n",
    "Y=df_pa_segment_Upper_MC['Incidence']"
   ]
  },
  {
   "cell_type": "code",
   "execution_count": 42,
   "metadata": {},
   "outputs": [
    {
     "data": {
      "text/plain": [
       "array([[-1.5696079]])"
      ]
     },
     "execution_count": 42,
     "metadata": {},
     "output_type": "execute_result"
    }
   ],
   "source": [
    "#Model Preparation\n",
    "\n",
    "#initiating a class (saving it to a variable)\n",
    "model_purchase_Upper_MC=LogisticRegression(solver='sag') \n",
    "\n",
    "#fitting the data\n",
    "model_purchase_Upper_MC.fit(X,Y)\n",
    "\n",
    "#For a chance of one unit in the input(Price), output(Purchase) is going to go down by 1.57% \n",
    "model_purchase_Upper_MC.coef_  "
   ]
  },
  {
   "cell_type": "code",
   "execution_count": 43,
   "metadata": {},
   "outputs": [
    {
     "name": "stdout",
     "output_type": "stream",
     "text": [
      "This predicts the probability of the different classes of logistic regression (0 or 1). The columns reflect the probabilties of 0 and 1, respectively.Below is the first 5 probabilities: \n",
      "\n",
      "[[0.33328087 0.66671913]\n",
      " [0.3509416  0.6490584 ]\n",
      " [0.3690202  0.6309798 ]\n",
      " [0.38747413 0.61252587]\n",
      " [0.40625674 0.59374326]]\n",
      "\n",
      " Since we are only interested in '1's (Purchase Incidence), we can just get the 2nd column\n"
     ]
    }
   ],
   "source": [
    "#feed the price range into the model to predict purchase probabilities for the Standard Segment \n",
    "Y_pr_segment_Upper_MC=model_purchase_Upper_MC.predict_proba(price_range_)  #predict_proba is a logistic regression method that predicts probabilities\n",
    "\n",
    "\n",
    "print(f'This predicts the probability of the different classes of logistic regression (0 or 1). The columns reflect the probabilties of 0 and 1, respectively.Below is the first 5 probabilities: \\n\\n{Y_pr_segment_Upper_MC[:5]}\\n\\n Since we are only interested in \\'1\\'s (Purchase Incidence), we can just get the 2nd column')\n",
    "\n",
    "#\"Standard\" Segment Purchase probability of the product of interest as a whole (saving only the second column)\n",
    "purchase_pr_segment_Upper_MC = Y_pr_segment_Upper_MC[:,1] "
   ]
  },
  {
   "cell_type": "code",
   "execution_count": 44,
   "metadata": {},
   "outputs": [
    {
     "data": {
      "text/html": [
       "<div>\n",
       "<style scoped>\n",
       "    .dataframe tbody tr th:only-of-type {\n",
       "        vertical-align: middle;\n",
       "    }\n",
       "\n",
       "    .dataframe tbody tr th {\n",
       "        vertical-align: top;\n",
       "    }\n",
       "\n",
       "    .dataframe thead th {\n",
       "        text-align: right;\n",
       "    }\n",
       "</style>\n",
       "<table border=\"1\" class=\"dataframe\">\n",
       "  <thead>\n",
       "    <tr style=\"text-align: right;\">\n",
       "      <th></th>\n",
       "      <th>Price_Range</th>\n",
       "      <th>Mean_PE</th>\n",
       "      <th>PE_Segment_Upper_MC</th>\n",
       "    </tr>\n",
       "  </thead>\n",
       "  <tbody>\n",
       "    <tr>\n",
       "      <th>0</th>\n",
       "      <td>1.10</td>\n",
       "      <td>-0.692114</td>\n",
       "      <td>-0.575432</td>\n",
       "    </tr>\n",
       "    <tr>\n",
       "      <th>1</th>\n",
       "      <td>1.15</td>\n",
       "      <td>-0.787424</td>\n",
       "      <td>-0.633467</td>\n",
       "    </tr>\n",
       "    <tr>\n",
       "      <th>2</th>\n",
       "      <td>1.20</td>\n",
       "      <td>-0.891624</td>\n",
       "      <td>-0.695060</td>\n",
       "    </tr>\n",
       "    <tr>\n",
       "      <th>3</th>\n",
       "      <td>1.25</td>\n",
       "      <td>-1.004861</td>\n",
       "      <td>-0.760228</td>\n",
       "    </tr>\n",
       "    <tr>\n",
       "      <th>4</th>\n",
       "      <td>1.30</td>\n",
       "      <td>-1.127166</td>\n",
       "      <td>-0.828963</td>\n",
       "    </tr>\n",
       "  </tbody>\n",
       "</table>\n",
       "</div>"
      ],
      "text/plain": [
       "   Price_Range   Mean_PE  PE_Segment_Upper_MC\n",
       "0         1.10 -0.692114            -0.575432\n",
       "1         1.15 -0.787424            -0.633467\n",
       "2         1.20 -0.891624            -0.695060\n",
       "3         1.25 -1.004861            -0.760228\n",
       "4         1.30 -1.127166            -0.828963"
      ]
     },
     "execution_count": 44,
     "metadata": {},
     "output_type": "execute_result"
    }
   ],
   "source": [
    "#price elasticity (Probability of NOT buying * Price * Coeff_)\n",
    "df_price_elasticities['PE_Segment_Upper_MC'] = model_purchase_Upper_MC.coef_[:,0] * price_range * (1 - purchase_pr_segment_Upper_MC)  \n",
    "\n",
    "\n",
    "#dataframe of different price levels along with overall price elasticity and price elasticity specific to a particular segment\n",
    "df_price_elasticities.head()"
   ]
  },
  {
   "cell_type": "code",
   "execution_count": 45,
   "metadata": {},
   "outputs": [
    {
     "name": "stdout",
     "output_type": "stream",
     "text": [
      "Analysis:\n",
      "\n",
      "01. For the Upper_MC segment(blue line), Purchase Probability converts from INELASTIC TO ELASTIC at $1.45. Contrast the $1.45 elasticity   tipping point for the Upper_MC Segment to the $1.25 elasticity tipping point for the overall population.\n",
      "\n",
      "02. This would imply that for customers in the Upper_MC segment, we can get away with increasing the price up to $1.45 but if  it is already higher than that, then it would be better to decrease the price closer to $1.45.\n"
     ]
    },
    {
     "data": {
      "image/png": "[encoded data removed]",
      "text/plain": [
       "<Figure size 648x432 with 1 Axes>"
      ]
     },
     "metadata": {
      "needs_background": "light"
     },
     "output_type": "display_data"
    }
   ],
   "source": [
    "#plotting price elasticity\n",
    "print('Analysis:\\n\\n01. For the Upper_MC segment(blue line), Purchase Probability converts from INELASTIC TO ELASTIC at $1.45. Contrast the $1.45 elasticity   tipping point for the Upper_MC Segment to the $1.25 elasticity tipping point for the overall population.\\n\\n02. This would imply that for customers in the Upper_MC segment, we can get away with increasing the price up to $1.45 but if  it is already higher than that, then it would be better to decrease the price closer to $1.45.')\n",
    "plt.figure(figsize=(9,6))\n",
    "plt.plot(price_range, df_price_elasticities['Mean_PE'], color = 'grey',label='Overall')\n",
    "plt.plot(price_range, df_price_elasticities['PE_Segment_Upper_MC'], color = 'blue',label='Segment_0(Upper_MC)')\n",
    "plt.xlabel('Price')\n",
    "plt.ylabel('Elasticity')\n",
    "plt.legend()\n",
    "plt.title('Price Elasticity of Purchase Probability')\n",
    "\n",
    "plt.show()"
   ]
  },
  {
   "cell_type": "markdown",
   "metadata": {},
   "source": [
    "$\\color{blue}{\\text{B4b. Low Income (Segment 1)}}$"
   ]
  },
  {
   "cell_type": "code",
   "execution_count": 46,
   "metadata": {},
   "outputs": [],
   "source": [
    "#filter down the dataframe to Segment 1\n",
    "df_pa_segment_Low_Income = df_pa[df_pa['Segment'] == 1]\n",
    "#________________________________________________________________________________________________________________\n",
    "\n",
    "#Designating Inputs and Outputs\n",
    "\n",
    "#Average price for each brand as input\n",
    "X = pd.DataFrame()\n",
    "X['Mean_Price']=df_pa_segment_Low_Income[['Price_1','Price_2','Price_3','Price_4','Price_5']].mean(axis=1)\n",
    "\n",
    "# We want to predict whether the customer bought or not so df_pa['incidence']\n",
    "Y=df_pa_segment_Low_Income['Incidence']"
   ]
  },
  {
   "cell_type": "code",
   "execution_count": 47,
   "metadata": {},
   "outputs": [
    {
     "data": {
      "text/plain": [
       "array([[-3.56878019]])"
      ]
     },
     "execution_count": 47,
     "metadata": {},
     "output_type": "execute_result"
    }
   ],
   "source": [
    "#Model Preparation\n",
    "\n",
    "#initiating a class (saving it to a variable)\n",
    "model_purchase_Low_Income=LogisticRegression(solver='sag') \n",
    "\n",
    "#fitting the data\n",
    "model_purchase_Low_Income.fit(X,Y)\n",
    "\n",
    "#For a chance of one unit in the input(Price), output(Purchase) is going to go down by 3.57% \n",
    "model_purchase_Low_Income.coef_  "
   ]
  },
  {
   "cell_type": "code",
   "execution_count": 48,
   "metadata": {},
   "outputs": [
    {
     "name": "stdout",
     "output_type": "stream",
     "text": [
      "This predicts the probability of the different classes of logistic regression (0 or 1). The columns reflect the probabilties of 0 and 1, respectively.Below is the first 5 probabilities: \n",
      "\n",
      "[[0.14002323 0.85997677]\n",
      " [0.16292031 0.83707969]\n",
      " [0.18873987 0.81126013]\n",
      " [0.21758767 0.78241233]\n",
      " [0.24948871 0.75051129]]\n",
      "\n",
      " Since we are only interested in '1's (Purchase Incidence), we can just get the 2nd column\n"
     ]
    }
   ],
   "source": [
    "#feed the price range into the model to predict purchase probabilities for the Standard Segment \n",
    "Y_pr_segment_Low_Income=model_purchase_Low_Income.predict_proba(price_range_)  #predict_proba is a logistic regression method that predicts probabilities\n",
    "\n",
    "\n",
    "print(f'This predicts the probability of the different classes of logistic regression (0 or 1). The columns reflect the probabilties of 0 and 1, respectively.Below is the first 5 probabilities: \\n\\n{Y_pr_segment_Low_Income[:5]}\\n\\n Since we are only interested in \\'1\\'s (Purchase Incidence), we can just get the 2nd column')\n",
    "\n",
    "#\"Standard\" Segment Purchase probability of the product of interest as a whole (saving only the second column)\n",
    "purchase_pr_segment_Low_Income = Y_pr_segment_Low_Income[:,1] "
   ]
  },
  {
   "cell_type": "code",
   "execution_count": 49,
   "metadata": {},
   "outputs": [
    {
     "data": {
      "text/html": [
       "<div>\n",
       "<style scoped>\n",
       "    .dataframe tbody tr th:only-of-type {\n",
       "        vertical-align: middle;\n",
       "    }\n",
       "\n",
       "    .dataframe tbody tr th {\n",
       "        vertical-align: top;\n",
       "    }\n",
       "\n",
       "    .dataframe thead th {\n",
       "        text-align: right;\n",
       "    }\n",
       "</style>\n",
       "<table border=\"1\" class=\"dataframe\">\n",
       "  <thead>\n",
       "    <tr style=\"text-align: right;\">\n",
       "      <th></th>\n",
       "      <th>Price_Range</th>\n",
       "      <th>Mean_PE</th>\n",
       "      <th>PE_Segment_Upper_MC</th>\n",
       "      <th>PE_Segment_Low_Income</th>\n",
       "    </tr>\n",
       "  </thead>\n",
       "  <tbody>\n",
       "    <tr>\n",
       "      <th>0</th>\n",
       "      <td>1.10</td>\n",
       "      <td>-0.692114</td>\n",
       "      <td>-0.575432</td>\n",
       "      <td>-0.549683</td>\n",
       "    </tr>\n",
       "    <tr>\n",
       "      <th>1</th>\n",
       "      <td>1.15</td>\n",
       "      <td>-0.787424</td>\n",
       "      <td>-0.633467</td>\n",
       "      <td>-0.668641</td>\n",
       "    </tr>\n",
       "    <tr>\n",
       "      <th>2</th>\n",
       "      <td>1.20</td>\n",
       "      <td>-0.891624</td>\n",
       "      <td>-0.695060</td>\n",
       "      <td>-0.808285</td>\n",
       "    </tr>\n",
       "    <tr>\n",
       "      <th>3</th>\n",
       "      <td>1.25</td>\n",
       "      <td>-1.004861</td>\n",
       "      <td>-0.760228</td>\n",
       "      <td>-0.970653</td>\n",
       "    </tr>\n",
       "    <tr>\n",
       "      <th>4</th>\n",
       "      <td>1.30</td>\n",
       "      <td>-1.127166</td>\n",
       "      <td>-0.828963</td>\n",
       "      <td>-1.157481</td>\n",
       "    </tr>\n",
       "  </tbody>\n",
       "</table>\n",
       "</div>"
      ],
      "text/plain": [
       "   Price_Range   Mean_PE  PE_Segment_Upper_MC  PE_Segment_Low_Income\n",
       "0         1.10 -0.692114            -0.575432              -0.549683\n",
       "1         1.15 -0.787424            -0.633467              -0.668641\n",
       "2         1.20 -0.891624            -0.695060              -0.808285\n",
       "3         1.25 -1.004861            -0.760228              -0.970653\n",
       "4         1.30 -1.127166            -0.828963              -1.157481"
      ]
     },
     "execution_count": 49,
     "metadata": {},
     "output_type": "execute_result"
    }
   ],
   "source": [
    "#price elasticity (Probability of NOT buying * Price * Coeff_)\n",
    "df_price_elasticities['PE_Segment_Low_Income'] = model_purchase_Low_Income.coef_[:,0] * price_range * (1 - purchase_pr_segment_Low_Income)  \n",
    "\n",
    "\n",
    "#dataframe of different price levels along with overall price elasticity and price elasticity specific to a particular segment\n",
    "df_price_elasticities.head()"
   ]
  },
  {
   "cell_type": "code",
   "execution_count": 50,
   "metadata": {},
   "outputs": [
    {
     "name": "stdout",
     "output_type": "stream",
     "text": [
      "Analysis:\n",
      "\n",
      "01. For the Low_Income segment(green line), Purchase Probability converts from INELASTIC TO ELASTIC between $1.25 and $1.30.\n",
      "Contrast this elasticity tipping point for the Low Income Segment to the $1.25 elasticity tipping point for the overall population. Even though tipping points for the Low Income segment is similar to the overall market, the elasticity for the Low Income segment is much lower (as indicated by the steepness of the green line below) than the overall market with each increase in price.\n",
      "\n",
      "02. This would imply that for customers in the Low Income segment, we have to keep the price between $1.25 and $1.30. With each price point higher than $1.30, the demand for the good would decrease much faster in this segment than the overall market as a whole.\n"
     ]
    },
    {
     "data": {
      "image/png": "[encoded data removed]",
      "text/plain": [
       "<Figure size 648x432 with 1 Axes>"
      ]
     },
     "metadata": {
      "needs_background": "light"
     },
     "output_type": "display_data"
    }
   ],
   "source": [
    "#plotting price elasticity\n",
    "print('Analysis:\\n\\n01. For the Low_Income segment(green line), Purchase Probability converts from INELASTIC TO ELASTIC between $1.25 and $1.30.\\nContrast this elasticity tipping point for the Low Income Segment to the $1.25 elasticity tipping point for the overall population. Even though tipping points for the Low Income segment is similar to the overall market, the elasticity for the Low Income segment is much lower (as indicated by the steepness of the green line below) than the overall market with each increase in price.\\n\\n02. This would imply that for customers in the Low Income segment, we have to keep the price between $1.25 and $1.30. With each price point higher than $1.30, the demand for the good would decrease much faster in this segment than the overall market as a whole.')\n",
    "plt.figure(figsize=(9,6))\n",
    "plt.plot(price_range, df_price_elasticities['Mean_PE'], color = 'grey',label='Overall')\n",
    "plt.plot(price_range, df_price_elasticities['PE_Segment_Upper_MC'], color = 'blue',label='Segment_0(Upper_MC)')\n",
    "plt.plot(price_range, df_price_elasticities['PE_Segment_Low_Income'], color = 'green',label='Segment_1(Low Income)')\n",
    "plt.xlabel('Price')\n",
    "plt.ylabel('Elasticity')\n",
    "plt.legend()\n",
    "plt.title('Price Elasticity of Purchase Probability')\n",
    "\n",
    "plt.show()"
   ]
  },
  {
   "cell_type": "markdown",
   "metadata": {},
   "source": [
    "$\\color{blue}{\\text{B4c. Lower_Middle_Class (Segment 2)}}$"
   ]
  },
  {
   "cell_type": "code",
   "execution_count": 51,
   "metadata": {},
   "outputs": [],
   "source": [
    "#filter down the dataframe to Segment 2\n",
    "df_pa_segment_Lower_MC = df_pa[df_pa['Segment'] == 2]\n",
    "#________________________________________________________________________________________________________________\n",
    "\n",
    "#Designating Inputs and Outputs\n",
    "\n",
    "#Average price for each brand as input\n",
    "X = pd.DataFrame()\n",
    "X['Mean_Price']=df_pa_segment_Lower_MC[['Price_1','Price_2','Price_3','Price_4','Price_5']].mean(axis=1)\n",
    "\n",
    "# We want to predict whether the customer bought or not so df_pa['incidence']\n",
    "Y=df_pa_segment_Lower_MC['Incidence']"
   ]
  },
  {
   "cell_type": "code",
   "execution_count": 52,
   "metadata": {},
   "outputs": [
    {
     "data": {
      "text/plain": [
       "array([[-1.81942048]])"
      ]
     },
     "execution_count": 52,
     "metadata": {},
     "output_type": "execute_result"
    }
   ],
   "source": [
    "#Model Preparation\n",
    "\n",
    "#initiating a class (saving it to a variable)\n",
    "model_purchase_Lower_MC=LogisticRegression(solver='sag') \n",
    "\n",
    "#fitting the data\n",
    "model_purchase_Lower_MC.fit(X,Y)\n",
    "\n",
    "#For a chance of one unit in the input(Price), output(Purchase) is going to go down by 1.82% \n",
    "model_purchase_Lower_MC.coef_  "
   ]
  },
  {
   "cell_type": "code",
   "execution_count": 53,
   "metadata": {},
   "outputs": [
    {
     "name": "stdout",
     "output_type": "stream",
     "text": [
      "This predicts the probability of the different classes of logistic regression (0 or 1). The columns reflect the probabilties of 0 and 1, respectively.Below is the first 5 probabilities: \n",
      "\n",
      "[[0.41987819 0.58012181]\n",
      " [0.44218416 0.55781584]\n",
      " [0.46472584 0.53527416]\n",
      " [0.48741256 0.51258744]\n",
      " [0.51015126 0.48984874]]\n",
      "\n",
      " Since we are only interested in '1's (Purchase Incidence), we can just get the 2nd column\n"
     ]
    }
   ],
   "source": [
    "#feed the price range into the model to predict purchase probabilities for the Standard Segment \n",
    "Y_pr_segment_Lower_MC=model_purchase_Lower_MC.predict_proba(price_range_)  #predict_proba is a logistic regression method that predicts probabilities\n",
    "\n",
    "\n",
    "print(f'This predicts the probability of the different classes of logistic regression (0 or 1). The columns reflect the probabilties of 0 and 1, respectively.Below is the first 5 probabilities: \\n\\n{Y_pr_segment_Lower_MC[:5]}\\n\\n Since we are only interested in \\'1\\'s (Purchase Incidence), we can just get the 2nd column')\n",
    "\n",
    "#\"Standard\" Segment Purchase probability of the product of interest as a whole (saving only the second column)\n",
    "purchase_pr_segment_Lower_MC = Y_pr_segment_Lower_MC[:,1] "
   ]
  },
  {
   "cell_type": "code",
   "execution_count": 54,
   "metadata": {},
   "outputs": [
    {
     "data": {
      "text/html": [
       "<div>\n",
       "<style scoped>\n",
       "    .dataframe tbody tr th:only-of-type {\n",
       "        vertical-align: middle;\n",
       "    }\n",
       "\n",
       "    .dataframe tbody tr th {\n",
       "        vertical-align: top;\n",
       "    }\n",
       "\n",
       "    .dataframe thead th {\n",
       "        text-align: right;\n",
       "    }\n",
       "</style>\n",
       "<table border=\"1\" class=\"dataframe\">\n",
       "  <thead>\n",
       "    <tr style=\"text-align: right;\">\n",
       "      <th></th>\n",
       "      <th>Price_Range</th>\n",
       "      <th>Mean_PE</th>\n",
       "      <th>PE_Segment_Upper_MC</th>\n",
       "      <th>PE_Segment_Low_Income</th>\n",
       "      <th>PE_Segment_Lower_MC</th>\n",
       "    </tr>\n",
       "  </thead>\n",
       "  <tbody>\n",
       "    <tr>\n",
       "      <th>0</th>\n",
       "      <td>1.10</td>\n",
       "      <td>-0.692114</td>\n",
       "      <td>-0.575432</td>\n",
       "      <td>-0.549683</td>\n",
       "      <td>-0.840328</td>\n",
       "    </tr>\n",
       "    <tr>\n",
       "      <th>1</th>\n",
       "      <td>1.15</td>\n",
       "      <td>-0.787424</td>\n",
       "      <td>-0.633467</td>\n",
       "      <td>-0.668641</td>\n",
       "      <td>-0.925197</td>\n",
       "    </tr>\n",
       "    <tr>\n",
       "      <th>2</th>\n",
       "      <td>1.20</td>\n",
       "      <td>-0.891624</td>\n",
       "      <td>-0.695060</td>\n",
       "      <td>-0.808285</td>\n",
       "      <td>-1.014638</td>\n",
       "    </tr>\n",
       "    <tr>\n",
       "      <th>3</th>\n",
       "      <td>1.25</td>\n",
       "      <td>-1.004861</td>\n",
       "      <td>-0.760228</td>\n",
       "      <td>-0.970653</td>\n",
       "      <td>-1.108510</td>\n",
       "    </tr>\n",
       "    <tr>\n",
       "      <th>4</th>\n",
       "      <td>1.30</td>\n",
       "      <td>-1.127166</td>\n",
       "      <td>-0.828963</td>\n",
       "      <td>-1.157481</td>\n",
       "      <td>-1.206634</td>\n",
       "    </tr>\n",
       "  </tbody>\n",
       "</table>\n",
       "</div>"
      ],
      "text/plain": [
       "   Price_Range   Mean_PE  PE_Segment_Upper_MC  PE_Segment_Low_Income  \\\n",
       "0         1.10 -0.692114            -0.575432              -0.549683   \n",
       "1         1.15 -0.787424            -0.633467              -0.668641   \n",
       "2         1.20 -0.891624            -0.695060              -0.808285   \n",
       "3         1.25 -1.004861            -0.760228              -0.970653   \n",
       "4         1.30 -1.127166            -0.828963              -1.157481   \n",
       "\n",
       "   PE_Segment_Lower_MC  \n",
       "0            -0.840328  \n",
       "1            -0.925197  \n",
       "2            -1.014638  \n",
       "3            -1.108510  \n",
       "4            -1.206634  "
      ]
     },
     "execution_count": 54,
     "metadata": {},
     "output_type": "execute_result"
    }
   ],
   "source": [
    "#price elasticity (Probability of NOT buying * Price * Coeff_)\n",
    "df_price_elasticities['PE_Segment_Lower_MC'] = model_purchase_Lower_MC.coef_[:,0] * price_range * (1 - purchase_pr_segment_Lower_MC)  \n",
    "\n",
    "\n",
    "#dataframe of different price levels along with overall price elasticity and price elasticity specific to a particular segment\n",
    "df_price_elasticities.head()"
   ]
  },
  {
   "cell_type": "code",
   "execution_count": 55,
   "metadata": {},
   "outputs": [
    {
     "name": "stdout",
     "output_type": "stream",
     "text": [
      "Analysis:\n",
      "\n",
      "01. For the Lower Middle Class segment(red line), the initial elasticity is actually lower than the Low Income Segment (green line) but then with each increase in price, demand is less sensitive in the Lower MC segment than in the Low Income Segment.\n",
      "\n",
      "02. This would imply that that customers in the Lower MC segment will not react as aggressively to an increase in price than customers in the Low Income Segment.\n"
     ]
    },
    {
     "data": {
      "image/png": "[encoded data removed]",
      "text/plain": [
       "<Figure size 648x432 with 1 Axes>"
      ]
     },
     "metadata": {
      "needs_background": "light"
     },
     "output_type": "display_data"
    }
   ],
   "source": [
    "#plotting price elasticity\n",
    "print('Analysis:\\n\\n01. For the Lower Middle Class segment(red line), the initial elasticity is actually lower than the Low Income Segment (green line) but then with each increase in price, demand is less sensitive in the Lower MC segment than in the Low Income Segment.\\n\\n02. This would imply that that customers in the Lower MC segment will not react as aggressively to an increase in price than customers in the Low Income Segment.')\n",
    "plt.figure(figsize=(9,6))\n",
    "plt.plot(price_range, df_price_elasticities['Mean_PE'], color = 'grey',label='Overall')\n",
    "plt.plot(price_range, df_price_elasticities['PE_Segment_Upper_MC'], color = 'blue',label='Segment_0(Upper_MC)')\n",
    "plt.plot(price_range, df_price_elasticities['PE_Segment_Low_Income'], color = 'green',label='Segment_1(Low Income)')\n",
    "plt.plot(price_range, df_price_elasticities['PE_Segment_Lower_MC'], color = 'red',label='Segment_2(Lower_MC)')\n",
    "plt.xlabel('Price')\n",
    "plt.ylabel('Elasticity')\n",
    "plt.legend()\n",
    "plt.title('Price Elasticity of Purchase Probability')\n",
    "\n",
    "plt.show()"
   ]
  },
  {
   "cell_type": "markdown",
   "metadata": {},
   "source": [
    "$\\color{orange}{\\text{B4d. Upper_Class (Segment 3)}}$"
   ]
  },
  {
   "cell_type": "code",
   "execution_count": 56,
   "metadata": {},
   "outputs": [],
   "source": [
    "#filter down the dataframe to Segment 3\n",
    "df_pa_segment_Upper_Class = df_pa[df_pa['Segment'] == 3]\n",
    "#________________________________________________________________________________________________________________\n",
    "\n",
    "#Designating Inputs and Outputs\n",
    "\n",
    "#Average price for each brand as input\n",
    "X = pd.DataFrame()\n",
    "X['Mean_Price']=df_pa_segment_Upper_Class[['Price_1','Price_2','Price_3','Price_4','Price_5']].mean(axis=1)\n",
    "\n",
    "# We want to predict whether the customer bought or not so df_pa['incidence']\n",
    "Y=df_pa_segment_Upper_Class['Incidence']"
   ]
  },
  {
   "cell_type": "code",
   "execution_count": 57,
   "metadata": {},
   "outputs": [
    {
     "data": {
      "text/plain": [
       "array([[-1.19059107]])"
      ]
     },
     "execution_count": 57,
     "metadata": {},
     "output_type": "execute_result"
    }
   ],
   "source": [
    "#Model Preparation\n",
    "\n",
    "#initiating a class (saving it to a variable)\n",
    "model_purchase_Upper_Class=LogisticRegression(solver='sag') \n",
    "\n",
    "#fitting the data\n",
    "model_purchase_Upper_Class.fit(X,Y)\n",
    "\n",
    "#For a chance of one unit in the input(Price), output(Purchase) is going to go down by 1.82% \n",
    "model_purchase_Upper_Class.coef_  "
   ]
  },
  {
   "cell_type": "code",
   "execution_count": 58,
   "metadata": {},
   "outputs": [
    {
     "name": "stdout",
     "output_type": "stream",
     "text": [
      "This predicts the probability of the different classes of logistic regression (0 or 1). The columns reflect the probabilties of 0 and 1, respectively.Below is the first 5 probabilities: \n",
      "\n",
      "[[0.44331506 0.55668494]\n",
      " [0.45805154 0.54194846]\n",
      " [0.47286179 0.52713821]\n",
      " [0.48771995 0.51228005]\n",
      " [0.50259984 0.49740016]]\n",
      "\n",
      " Since we are only interested in '1's (Purchase Incidence), we can just get the 2nd column\n"
     ]
    }
   ],
   "source": [
    "#feed the price range into the model to predict purchase probabilities for the Standard Segment \n",
    "Y_pr_segment_Upper_Class=model_purchase_Upper_Class.predict_proba(price_range_)  #predict_proba is a logistic regression method that predicts probabilities\n",
    "\n",
    "\n",
    "print(f'This predicts the probability of the different classes of logistic regression (0 or 1). The columns reflect the probabilties of 0 and 1, respectively.Below is the first 5 probabilities: \\n\\n{Y_pr_segment_Upper_Class[:5]}\\n\\n Since we are only interested in \\'1\\'s (Purchase Incidence), we can just get the 2nd column')\n",
    "\n",
    "#\"Standard\" Segment Purchase probability of the product of interest as a whole (saving only the second column)\n",
    "purchase_pr_segment_Upper_Class = Y_pr_segment_Upper_Class[:,1] "
   ]
  },
  {
   "cell_type": "code",
   "execution_count": 59,
   "metadata": {},
   "outputs": [
    {
     "data": {
      "text/html": [
       "<div>\n",
       "<style scoped>\n",
       "    .dataframe tbody tr th:only-of-type {\n",
       "        vertical-align: middle;\n",
       "    }\n",
       "\n",
       "    .dataframe tbody tr th {\n",
       "        vertical-align: top;\n",
       "    }\n",
       "\n",
       "    .dataframe thead th {\n",
       "        text-align: right;\n",
       "    }\n",
       "</style>\n",
       "<table border=\"1\" class=\"dataframe\">\n",
       "  <thead>\n",
       "    <tr style=\"text-align: right;\">\n",
       "      <th></th>\n",
       "      <th>Price_Range</th>\n",
       "      <th>Mean_PE</th>\n",
       "      <th>PE_Segment_Upper_MC</th>\n",
       "      <th>PE_Segment_Low_Income</th>\n",
       "      <th>PE_Segment_Lower_MC</th>\n",
       "      <th>PE_Segment_Upper_Class</th>\n",
       "    </tr>\n",
       "  </thead>\n",
       "  <tbody>\n",
       "    <tr>\n",
       "      <th>0</th>\n",
       "      <td>1.10</td>\n",
       "      <td>-0.692114</td>\n",
       "      <td>-0.575432</td>\n",
       "      <td>-0.549683</td>\n",
       "      <td>-0.840328</td>\n",
       "      <td>-0.580588</td>\n",
       "    </tr>\n",
       "    <tr>\n",
       "      <th>1</th>\n",
       "      <td>1.15</td>\n",
       "      <td>-0.787424</td>\n",
       "      <td>-0.633467</td>\n",
       "      <td>-0.668641</td>\n",
       "      <td>-0.925197</td>\n",
       "      <td>-0.627155</td>\n",
       "    </tr>\n",
       "    <tr>\n",
       "      <th>2</th>\n",
       "      <td>1.20</td>\n",
       "      <td>-0.891624</td>\n",
       "      <td>-0.695060</td>\n",
       "      <td>-0.808285</td>\n",
       "      <td>-1.014638</td>\n",
       "      <td>-0.675582</td>\n",
       "    </tr>\n",
       "    <tr>\n",
       "      <th>3</th>\n",
       "      <td>1.25</td>\n",
       "      <td>-1.004861</td>\n",
       "      <td>-0.760228</td>\n",
       "      <td>-0.970653</td>\n",
       "      <td>-1.108510</td>\n",
       "      <td>-0.725844</td>\n",
       "    </tr>\n",
       "    <tr>\n",
       "      <th>4</th>\n",
       "      <td>1.30</td>\n",
       "      <td>-1.127166</td>\n",
       "      <td>-0.828963</td>\n",
       "      <td>-1.157481</td>\n",
       "      <td>-1.206634</td>\n",
       "      <td>-0.777908</td>\n",
       "    </tr>\n",
       "    <tr>\n",
       "      <th>5</th>\n",
       "      <td>1.35</td>\n",
       "      <td>-1.258441</td>\n",
       "      <td>-0.901236</td>\n",
       "      <td>-1.370038</td>\n",
       "      <td>-1.308791</td>\n",
       "      <td>-0.831737</td>\n",
       "    </tr>\n",
       "    <tr>\n",
       "      <th>6</th>\n",
       "      <td>1.40</td>\n",
       "      <td>-1.398459</td>\n",
       "      <td>-0.976994</td>\n",
       "      <td>-1.608951</td>\n",
       "      <td>-1.414733</td>\n",
       "      <td>-0.887285</td>\n",
       "    </tr>\n",
       "    <tr>\n",
       "      <th>7</th>\n",
       "      <td>1.45</td>\n",
       "      <td>-1.546856</td>\n",
       "      <td>-1.056162</td>\n",
       "      <td>-1.874054</td>\n",
       "      <td>-1.524184</td>\n",
       "      <td>-0.944502</td>\n",
       "    </tr>\n",
       "    <tr>\n",
       "      <th>8</th>\n",
       "      <td>1.50</td>\n",
       "      <td>-1.703139</td>\n",
       "      <td>-1.138643</td>\n",
       "      <td>-2.164280</td>\n",
       "      <td>-1.636843</td>\n",
       "      <td>-1.003332</td>\n",
       "    </tr>\n",
       "    <tr>\n",
       "      <th>9</th>\n",
       "      <td>1.55</td>\n",
       "      <td>-1.866696</td>\n",
       "      <td>-1.224317</td>\n",
       "      <td>-2.477626</td>\n",
       "      <td>-1.752392</td>\n",
       "      <td>-1.063714</td>\n",
       "    </tr>\n",
       "  </tbody>\n",
       "</table>\n",
       "</div>"
      ],
      "text/plain": [
       "   Price_Range   Mean_PE  PE_Segment_Upper_MC  PE_Segment_Low_Income  \\\n",
       "0         1.10 -0.692114            -0.575432              -0.549683   \n",
       "1         1.15 -0.787424            -0.633467              -0.668641   \n",
       "2         1.20 -0.891624            -0.695060              -0.808285   \n",
       "3         1.25 -1.004861            -0.760228              -0.970653   \n",
       "4         1.30 -1.127166            -0.828963              -1.157481   \n",
       "5         1.35 -1.258441            -0.901236              -1.370038   \n",
       "6         1.40 -1.398459            -0.976994              -1.608951   \n",
       "7         1.45 -1.546856            -1.056162              -1.874054   \n",
       "8         1.50 -1.703139            -1.138643              -2.164280   \n",
       "9         1.55 -1.866696            -1.224317              -2.477626   \n",
       "\n",
       "   PE_Segment_Lower_MC  PE_Segment_Upper_Class  \n",
       "0            -0.840328               -0.580588  \n",
       "1            -0.925197               -0.627155  \n",
       "2            -1.014638               -0.675582  \n",
       "3            -1.108510               -0.725844  \n",
       "4            -1.206634               -0.777908  \n",
       "5            -1.308791               -0.831737  \n",
       "6            -1.414733               -0.887285  \n",
       "7            -1.524184               -0.944502  \n",
       "8            -1.636843               -1.003332  \n",
       "9            -1.752392               -1.063714  "
      ]
     },
     "execution_count": 59,
     "metadata": {},
     "output_type": "execute_result"
    }
   ],
   "source": [
    "#price elasticity (Probability of NOT buying * Price * Coeff_)\n",
    "df_price_elasticities['PE_Segment_Upper_Class'] = model_purchase_Upper_Class.coef_[:,0] * price_range * (1 - purchase_pr_segment_Upper_Class)  \n",
    "\n",
    "\n",
    "#dataframe of different price levels along with overall price elasticity and price elasticity specific to a particular segment\n",
    "df_price_elasticities.head(10)"
   ]
  },
  {
   "cell_type": "code",
   "execution_count": 60,
   "metadata": {},
   "outputs": [
    {
     "name": "stdout",
     "output_type": "stream",
     "text": [
      "Analysis:\n",
      "\n",
      "01. For the Upper Class segment(orange line), Purchase Probability converts from INELASTIC TO ELASTIC at about $1.50. The elasticity line for this segment is also the least steep of all the segments - implying that customers from this segment are least sensitive to a change in price.\n",
      "\n",
      "02. This would imply that for customers in this segment, we have to keep the price around $1.50 but even if we increase the price above that, the change in demand in this segment is much milder than in other segments.\n"
     ]
    },
    {
     "data": {
      "image/png": "[encoded data removed]",
      "text/plain": [
       "<Figure size 648x432 with 1 Axes>"
      ]
     },
     "metadata": {
      "needs_background": "light"
     },
     "output_type": "display_data"
    }
   ],
   "source": [
    "#plotting price elasticity\n",
    "print('Analysis:\\n\\n01. For the Upper Class segment(orange line), Purchase Probability converts from INELASTIC TO ELASTIC at about $1.50. The elasticity line for this segment is also the least steep of all the segments - implying that customers from this segment are least sensitive to a change in price.\\n\\n02. This would imply that for customers in this segment, we have to keep the price around $1.50 but even if we increase the price above that, the change in demand in this segment is much milder than in other segments.')\n",
    "\n",
    "plt.figure(figsize=(9,6))\n",
    "plt.plot(price_range, df_price_elasticities['Mean_PE'], color = 'grey',label='Overall')\n",
    "plt.plot(price_range, df_price_elasticities['PE_Segment_Upper_MC'], color = 'blue',label='Segment_0(Upper_MC)')\n",
    "plt.plot(price_range, df_price_elasticities['PE_Segment_Low_Income'], color = 'green',label='Segment_1(Low Income)')\n",
    "plt.plot(price_range, df_price_elasticities['PE_Segment_Lower_MC'], color = 'red',label='Segment_2(Lower_MC)')\n",
    "plt.plot(price_range, df_price_elasticities['PE_Segment_Upper_Class'], color = 'orange',label='Segment_3(Upper_Class)')\n",
    "plt.xlabel('Price')\n",
    "plt.ylabel('Elasticity')\n",
    "plt.legend()\n",
    "plt.title('Price Elasticity of Purchase Probability')\n",
    "\n",
    "plt.show()"
   ]
  }
 ],
 "metadata": {
  "kernelspec": {
   "display_name": "Python 3",
   "language": "python",
   "name": "python3"
  },
  "language_info": {
   "codemirror_mode": {
    "name": "ipython",
    "version": 3
   },
   "file_extension": ".py",
   "mimetype": "text/x-python",
   "name": "python",
   "nbconvert_exporter": "python",
   "pygments_lexer": "ipython3",
   "version": "3.7.3"
  }
 },
 "nbformat": 4,
 "nbformat_minor": 2
}
